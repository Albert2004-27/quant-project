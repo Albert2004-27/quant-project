{
 "cells": [
  {
   "cell_type": "code",
   "execution_count": 1,
   "metadata": {},
   "outputs": [],
   "source": [
    "import pandas as pd \n",
    "import numpy as np "
   ]
  },
  {
   "cell_type": "markdown",
   "metadata": {},
   "source": [
    "## 前情提要\n",
    "\n",
    "Pandas的数据结构有以下兩種类型：\n",
    "* Series (序列：一维列表）\n",
    "* DataFrame (数据框：二维表）"
   ]
  },
  {
   "cell_type": "markdown",
   "metadata": {},
   "source": [
    "# 1. 一微數據結構Series"
   ]
  },
  {
   "cell_type": "markdown",
   "metadata": {},
   "source": [
    "## 1.1 Series的创建\n",
    "#### 创建Series 创建一个Series的基本格式是s = Series(data, index=index, name=name)"
   ]
  },
  {
   "cell_type": "markdown",
   "metadata": {},
   "source": [
    "定义：数据表中的一列或一行，观测向量为一维数组，对于任意一组个体某一属性的观测可抽象为Series的概念。Series默认由index和values构成。"
   ]
  },
  {
   "cell_type": "code",
   "execution_count": 2,
   "metadata": {},
   "outputs": [
    {
     "name": "stdout",
     "output_type": "stream",
     "text": [
      "A is an array:\n",
      " [ 1.62434536 -0.61175641 -0.52817175 -1.07296862  0.86540763]\n",
      "S is a Series:\n",
      " 0    1.624345\n",
      "1   -0.611756\n",
      "2   -0.528172\n",
      "3   -1.072969\n",
      "4    0.865408\n",
      "dtype: float64\n",
      "index:  RangeIndex(start=0, stop=5, step=1)\n",
      "values:  [ 1.62434536 -0.61175641 -0.52817175 -1.07296862  0.86540763]\n"
     ]
    }
   ],
   "source": [
    "np.random.seed(1)     #使用随机种子，这样每次运行random结果一致，\n",
    "A=np.random.randn(5)  \n",
    "print(\"A is an array:\\n\",A)\n",
    "S = pd.Series(A)\n",
    "print(\"S is a Series:\\n\",S)\n",
    "print(\"index: \", S.index)  #默认创建索引，注意是从0开始\n",
    "print(\"values: \", S.values)"
   ]
  },
  {
   "cell_type": "markdown",
   "metadata": {},
   "source": [
    "可以在创建Series时添加index，并可使用Series.index查看具体的index。需要注意的一点是，\n",
    "当从数组创建Series时，若指定index，那么index长度要和data的\n",
    "长度一致"
   ]
  },
  {
   "cell_type": "code",
   "execution_count": 4,
   "metadata": {},
   "outputs": [
    {
     "name": "stdout",
     "output_type": "stream",
     "text": [
      "a   -0.416758\n",
      "b   -0.056267\n",
      "c   -2.136196\n",
      "d    1.640271\n",
      "e   -1.793436\n",
      "dtype: float64\n"
     ]
    },
    {
     "data": {
      "text/plain": [
       "Index(['a', 'b', 'c', 'd', 'e'], dtype='object')"
      ]
     },
     "execution_count": 4,
     "metadata": {},
     "output_type": "execute_result"
    }
   ],
   "source": [
    "np.random.seed(2)\n",
    "s=pd.Series(np.random.randn(5),index=['a','b','c','d','e'])\n",
    "print (s)\n",
    "s.index"
   ]
  },
  {
   "cell_type": "markdown",
   "metadata": {},
   "source": [
    "通过字典（dict）来创建Series。"
   ]
  },
  {
   "cell_type": "code",
   "execution_count": 6,
   "metadata": {},
   "outputs": [
    {
     "name": "stdout",
     "output_type": "stream",
     "text": [
      "中国平安    601318\n",
      "格力电器    000651\n",
      "招商银行    600036\n",
      "中信证券    600030\n",
      "贵州茅台    600519\n",
      "dtype: object\n"
     ]
    }
   ],
   "source": [
    "stocks={'中国平安':'601318','格力电器':'000651','招商银行':'600036',\n",
    "        '中信证券':'600030','贵州茅台':'600519'}\n",
    "Series_stocks =pd.Series(stocks)\n",
    "print (Series_stocks)"
   ]
  },
  {
   "cell_type": "markdown",
   "metadata": {},
   "source": [
    "使用字典创建Series时指定index的情形（index长度不必和字典相同）。"
   ]
  },
  {
   "cell_type": "code",
   "execution_count": 9,
   "metadata": {},
   "outputs": [
    {
     "data": {
      "text/plain": [
       "中国平安    601318\n",
       "格力电器    000651\n",
       "招商银行    600036\n",
       "中信证券    600030\n",
       "工业富联       NaN\n",
       "dtype: object"
      ]
     },
     "execution_count": 9,
     "metadata": {},
     "output_type": "execute_result"
    }
   ],
   "source": [
    "pd.Series(stocks, index=['中国平安', '格力电器', '招商银行', '中信证券',\n",
    "                       '工业富联'])\n",
    "#注意，在原来的stocks（dict）里没有‘工业富联’，因此值为‘NaN’\n"
   ]
  },
  {
   "cell_type": "markdown",
   "metadata": {},
   "source": [
    "给数据序列和index命名："
   ]
  },
  {
   "cell_type": "code",
   "execution_count": 10,
   "metadata": {},
   "outputs": [
    {
     "name": "stdout",
     "output_type": "stream",
     "text": [
      "股票名称\n",
      "中国平安    601318\n",
      "格力电器    000651\n",
      "招商银行    600036\n",
      "中信证券    600030\n",
      "贵州茅台    600519\n",
      "Name: 股票代码, dtype: object\n"
     ]
    }
   ],
   "source": [
    "Series_stocks.name='股票代码'        #注意python是使用.号来连接和调用\n",
    "Series_stocks.index.name='股票名称'\n",
    "print(Series_stocks)"
   ]
  },
  {
   "cell_type": "markdown",
   "metadata": {},
   "source": [
    "## 1.2 Series数据的访问\n",
    "Series对象的下标运算同时支持位置和标签两种方式"
   ]
  },
  {
   "cell_type": "code",
   "execution_count": 18,
   "metadata": {},
   "outputs": [
    {
     "name": "stdout",
     "output_type": "stream",
     "text": [
      "a    1.788628\n",
      "b    0.436510\n",
      "c    0.096497\n",
      "d   -1.863493\n",
      "e   -0.277388\n",
      "dtype: float64\n",
      "a    1.788628\n",
      "b    0.436510\n",
      "dtype: float64\n",
      "c    0.096497\n",
      "a    1.788628\n",
      "e   -0.277388\n",
      "dtype: float64\n",
      "e   -0.277388\n",
      "a    1.788628\n",
      "dtype: float64\n"
     ]
    }
   ],
   "source": [
    "np.random.seed(3)\n",
    "data=np.random.randn(5)\n",
    "s = pd.Series(data,index=['a', 'b', 'c', 'd', 'e'])\n",
    "print(s)\n",
    "\n",
    "print(s[:2])   #取出第0、1行数据\n",
    "\n",
    "print(s[[2,0,4]]) #取出第2、0、4行数据\n",
    "\n",
    "print(s[['e', 'a']]) #取出‘e’、‘a’对应数据\n"
   ]
  },
  {
   "cell_type": "markdown",
   "metadata": {},
   "source": [
    "## 1.3 Series排序函数"
   ]
  },
  {
   "cell_type": "code",
   "execution_count": 21,
   "metadata": {},
   "outputs": [
    {
     "name": "stdout",
     "output_type": "stream",
     "text": [
      "j    1.788628\n",
      "a    0.436510\n",
      "c    0.096497\n",
      "b   -1.863493\n",
      "d   -0.277388\n",
      "e   -0.354759\n",
      "h   -0.082741\n",
      "f   -0.627001\n",
      "g   -0.043818\n",
      "i   -0.477218\n",
      "dtype: float64\n",
      "a    0.436510\n",
      "b   -1.863493\n",
      "c    0.096497\n",
      "d   -0.277388\n",
      "e   -0.354759\n",
      "f   -0.627001\n",
      "g   -0.043818\n",
      "h   -0.082741\n",
      "i   -0.477218\n",
      "j    1.788628\n",
      "dtype: float64\n",
      "b   -1.863493\n",
      "f   -0.627001\n",
      "i   -0.477218\n",
      "e   -0.354759\n",
      "d   -0.277388\n",
      "h   -0.082741\n",
      "g   -0.043818\n",
      "c    0.096497\n",
      "a    0.436510\n",
      "j    1.788628\n",
      "dtype: float64\n"
     ]
    }
   ],
   "source": [
    "np.random.seed(3)\n",
    "data=np.random.randn(10)\n",
    "s = pd.Series(data,index=['j','a', 'c','b', 'd', 'e','h','f','g','i'])\n",
    "print(s)\n",
    "\n",
    "\n",
    "\n"
   ]
  },
  {
   "cell_type": "code",
   "execution_count": 22,
   "metadata": {},
   "outputs": [
    {
     "data": {
      "text/plain": [
       "a    0.436510\n",
       "b   -1.863493\n",
       "c    0.096497\n",
       "d   -0.277388\n",
       "e   -0.354759\n",
       "f   -0.627001\n",
       "g   -0.043818\n",
       "h   -0.082741\n",
       "i   -0.477218\n",
       "j    1.788628\n",
       "dtype: float64"
      ]
     },
     "execution_count": 22,
     "metadata": {},
     "output_type": "execute_result"
    }
   ],
   "source": [
    "#排序\n",
    "s.sort_index(ascending=True) #按index从小到大，False从大到小"
   ]
  },
  {
   "cell_type": "code",
   "execution_count": 23,
   "metadata": {},
   "outputs": [
    {
     "data": {
      "text/plain": [
       "b   -1.863493\n",
       "f   -0.627001\n",
       "i   -0.477218\n",
       "e   -0.354759\n",
       "d   -0.277388\n",
       "h   -0.082741\n",
       "g   -0.043818\n",
       "c    0.096497\n",
       "a    0.436510\n",
       "j    1.788628\n",
       "dtype: float64"
      ]
     },
     "execution_count": 23,
     "metadata": {},
     "output_type": "execute_result"
    }
   ],
   "source": [
    "s.sort_values(ascending=True)"
   ]
  },
  {
   "cell_type": "code",
   "execution_count": 28,
   "metadata": {},
   "outputs": [
    {
     "data": {
      "text/plain": [
       "j    10.0\n",
       "a     9.0\n",
       "c     8.0\n",
       "b     1.0\n",
       "d     5.0\n",
       "e     4.0\n",
       "h     6.0\n",
       "f     2.0\n",
       "g     7.0\n",
       "i     3.0\n",
       "dtype: float64"
      ]
     },
     "execution_count": 28,
     "metadata": {},
     "output_type": "execute_result"
    }
   ],
   "source": [
    "s.rank(method='average',ascending=True,axis=0) #每个数的平均排名\n",
    "\n",
    "# 为各组分配一个平均排名：\n",
    "# Series.rank(method='average',ascending=True,axis=0)  \n",
    "# rank的method选项：  \n",
    "# 'average'：在相等分组中，为各个值分配平均排名  \n",
    "# 'max','min'：使用整个分组中的最小排名\n",
    "# 'first'：按值在原始数据中出现的顺序排名"
   ]
  },
  {
   "cell_type": "code",
   "execution_count": 25,
   "metadata": {},
   "outputs": [
    {
     "name": "stdout",
     "output_type": "stream",
     "text": [
      "j\n",
      "b\n"
     ]
    }
   ],
   "source": [
    "#返回含有最大值的索引位置： \n",
    "print(s.idxmax())\n",
    "#返回含有最小值的索引位置： \n",
    "print(s.idxmin())"
   ]
  },
  {
   "cell_type": "markdown",
   "metadata": {},
   "source": [
    "# 2. 二維數據結構Pandas"
   ]
  },
  {
   "cell_type": "markdown",
   "metadata": {},
   "source": [
    "DataFrame是一个二维的数据结构，通过数据组，index和columns构成"
   ]
  },
  {
   "cell_type": "markdown",
   "metadata": {},
   "source": [
    "## 2.1 DataFrame数据表的创建\n",
    "DataFrame是多个Series的集合体。  \n",
    "先创建一个值是Series的字典，并转换为DataFrame。"
   ]
  },
  {
   "cell_type": "code",
   "execution_count": 29,
   "metadata": {},
   "outputs": [
    {
     "name": "stdout",
     "output_type": "stream",
     "text": [
      "   one  two  three  four five\n",
      "a  1.0  1.0      0   1.0    f\n",
      "b  2.0  2.0      1   1.0    f\n",
      "c  3.0  3.0      2   1.0    f\n",
      "d  NaN  4.0      3   1.0    f\n"
     ]
    }
   ],
   "source": [
    "#通过字典创建DataFrame\n",
    "d={'one':pd.Series([1.,2.,3.],index=['a','b','c']),\n",
    "   'two':pd.Series([1.,2.,3.,4.,],index=['a','b','c','d']),\n",
    "   'three':range(4),\n",
    "   'four':1.,\n",
    "   'five':'f'}\n",
    "df=pd.DataFrame(d)\n",
    "print (df)"
   ]
  },
  {
   "cell_type": "code",
   "execution_count": 30,
   "metadata": {},
   "outputs": [
    {
     "name": "stdout",
     "output_type": "stream",
     "text": [
      "DataFrame index:\n",
      " Index(['a', 'b', 'c', 'd'], dtype='object')\n",
      "DataFrame columns:\n",
      " Index(['one', 'two', 'three', 'four', 'five'], dtype='object')\n",
      "DataFrame values:\n",
      " [[1.0 1.0 0 1.0 'f']\n",
      " [2.0 2.0 1 1.0 'f']\n",
      " [3.0 3.0 2 1.0 'f']\n",
      " [nan 4.0 3 1.0 'f']]\n"
     ]
    }
   ],
   "source": [
    "#可以使用dataframe.index和dataframe.columns来查看DataFrame的行和列，\n",
    "#dataframe.values则以数组的形式返回DataFrame的元素\n",
    "print (\"DataFrame index:\\n\",df.index)\n",
    "print (\"DataFrame columns:\\n\",df.columns)\n",
    "print (\"DataFrame values:\\n\",df.values)"
   ]
  },
  {
   "cell_type": "code",
   "execution_count": 33,
   "metadata": {},
   "outputs": [
    {
     "name": "stdout",
     "output_type": "stream",
     "text": [
      "   one  two\n",
      "a  1.0  4.0\n",
      "b  2.0  3.0\n",
      "c  3.0  2.0\n",
      "d  4.0  1.0\n"
     ]
    }
   ],
   "source": [
    "#DataFrame也可以从值是数组的字典创建，但是各个数组的长度需要相同：\n",
    "d = {'one': [1., 2., 3., 4.], 'two': [4., 3., 2., 1.]}\n",
    "df = pd.DataFrame(d, index=['a', 'b', 'c', 'd'])\n",
    "print (df)"
   ]
  },
  {
   "cell_type": "code",
   "execution_count": 35,
   "metadata": {},
   "outputs": [
    {
     "name": "stdout",
     "output_type": "stream",
     "text": [
      "Empty DataFrame\n",
      "Columns: []\n",
      "Index: []\n"
     ]
    }
   ],
   "source": [
    "#在实际处理数据时，有时需要创建一个空的DataFrame，可以这么做\n",
    "df = pd.DataFrame()\n",
    "print (df)"
   ]
  },
  {
   "cell_type": "code",
   "execution_count": 36,
   "metadata": {},
   "outputs": [
    {
     "name": "stdout",
     "output_type": "stream",
     "text": [
      "   0     1\n",
      "0  0   4.0\n",
      "1  1   8.0\n",
      "2  2  12.0\n",
      "3  3  16.0\n",
      "4  4  20.0\n"
     ]
    }
   ],
   "source": [
    "#另一种创建DataFrame的方法十分有用，那就是使用concat函数基于Series\n",
    "#或者DataFrame创建一个DataFrame\n",
    "a = pd.Series(range(5))   #range(5)产生0到4 \n",
    "b = pd.Series(np.linspace(4, 20, 5)) #linspace(a,b,c)\n",
    "df = pd.concat([a, b], axis=1)\n",
    "print (df)"
   ]
  },
  {
   "cell_type": "markdown",
   "metadata": {},
   "source": [
    "其中的axis=1表示按列进行合并，axis=0表示按行合并，  \n",
    "并且，Series都处理成一列，所以这里如果选axis=0的话，  \n",
    "将得到一个10×1的DataFrame。下面这个例子展示了如何按行合并  \n",
    "DataFrame成一个大的DataFrame："
   ]
  },
  {
   "cell_type": "code",
   "execution_count": 43,
   "metadata": {},
   "outputs": [
    {
     "name": "stdout",
     "output_type": "stream",
     "text": [
      "         0    1     2     3     4\n",
      "alpha  0.0  0.0   0.0   0.0   0.0\n",
      "beta   1.0  2.0   3.0   4.0   5.0\n",
      "gamma  2.0  4.0   6.0   8.0  10.0\n",
      "delta  3.0  6.0   9.0  12.0  15.0\n",
      "eta    4.0  8.0  12.0  16.0  20.0\n"
     ]
    }
   ],
   "source": [
    "df = pd.DataFrame()\n",
    "index = ['alpha', 'beta', 'gamma', 'delta', 'eta']\n",
    "for i in range(5):\n",
    "    a = pd.DataFrame([np.linspace(i,i*5,5)], index = [index[i]])\n",
    "    df = pd.concat([df,a],axis = 0)\n",
    "print (df)"
   ]
  },
  {
   "cell_type": "markdown",
   "metadata": {},
   "source": [
    "## 2.2 DataFrame数据的访问"
   ]
  },
  {
   "cell_type": "code",
   "execution_count": 44,
   "metadata": {},
   "outputs": [
    {
     "name": "stdout",
     "output_type": "stream",
     "text": [
      "df: \n",
      "          0    1     2     3     4\n",
      "alpha  0.0  0.0   0.0   0.0   0.0\n",
      "beta   1.0  2.0   3.0   4.0   5.0\n",
      "gamma  2.0  4.0   6.0   8.0  10.0\n",
      "delta  3.0  6.0   9.0  12.0  15.0\n",
      "eta    4.0  8.0  12.0  16.0  20.0\n",
      "df[1]:\n",
      " alpha    0.0\n",
      "beta     2.0\n",
      "gamma    4.0\n",
      "delta    6.0\n",
      "eta      8.0\n",
      "Name: 1, dtype: float64\n",
      "df: \n",
      "          a    b     c     d     e\n",
      "alpha  0.0  0.0   0.0   0.0   0.0\n",
      "beta   1.0  2.0   3.0   4.0   5.0\n",
      "gamma  2.0  4.0   6.0   8.0  10.0\n",
      "delta  3.0  6.0   9.0  12.0  15.0\n",
      "eta    4.0  8.0  12.0  16.0  20.0\n",
      "df[b]:\n",
      " alpha    0.0\n",
      "beta     2.0\n",
      "gamma    4.0\n",
      "delta    6.0\n",
      "eta      8.0\n",
      "Name: b, dtype: float64\n",
      "df.b:\n",
      " alpha    0.0\n",
      "beta     2.0\n",
      "gamma    4.0\n",
      "delta    6.0\n",
      "eta      8.0\n",
      "Name: b, dtype: float64\n",
      "df[['a','b']]:\n",
      "          a     d\n",
      "alpha  0.0   0.0\n",
      "beta   1.0   4.0\n",
      "gamma  2.0   8.0\n",
      "delta  3.0  12.0\n",
      "eta    4.0  16.0\n"
     ]
    }
   ],
   "source": [
    "#DataFrame是以列作为操作的基础的，全部操作都想象成先从DataFrame里取一列，\n",
    "#再从这个Series取元素即可。\n",
    "#可以用datafrae.column_name选取列，也可以使用dataframe[]操作选取列\n",
    "df = pd.DataFrame()\n",
    "index = ['alpha', 'beta', 'gamma', 'delta', 'eta']\n",
    "for i in range(5):\n",
    "    a = pd.DataFrame([np.linspace(i, 5*i, 5)], index=[index[i]])\n",
    "    df = pd.concat([df, a], axis=0)\n",
    "print('df: \\n',df)\n",
    "print (\"df[1]:\\n\",df[1])\n",
    "df.columns = ['a', 'b', 'c', 'd', 'e']\n",
    "print('df: \\n',df)\n",
    "print (\"df[b]:\\n\",df['b'])\n",
    "print (\"df.b:\\n\",df.b)\n",
    "print (\"df[['a','b']]:\\n\",df[['a', 'd']])"
   ]
  },
  {
   "cell_type": "code",
   "execution_count": 48,
   "metadata": {},
   "outputs": [
    {
     "name": "stdout",
     "output_type": "stream",
     "text": [
      "4.0\n",
      "4.0\n"
     ]
    }
   ],
   "source": [
    "#访问特定的元素可以如Series一样使用下标或者是索引:\n",
    "print (df['b'][2])       #第b列，第3行（从0开始算）\n",
    "print (df['b']['gamma']) #第b列，gamma对应行"
   ]
  },
  {
   "cell_type": "markdown",
   "metadata": {},
   "source": [
    "##### df.loc['列或行名']，df.iloc[n]第n行，df.iloc[:,n]第n列"
   ]
  },
  {
   "cell_type": "code",
   "execution_count": null,
   "metadata": {},
   "outputs": [],
   "source": [
    "#若需要选取行，可以使用dataframe.iloc按下标选取，\n",
    "#或者使用dataframe.loc按索引选取\n",
    "print (df.iloc[1])    #选取第一行元素\n",
    "print (df.loc['beta'])#选取beta对应行元素"
   ]
  },
  {
   "cell_type": "code",
   "execution_count": 49,
   "metadata": {},
   "outputs": [
    {
     "name": "stdout",
     "output_type": "stream",
     "text": [
      "切片取数:\n",
      "          a    b    c    d     e\n",
      "beta   1.0  2.0  3.0  4.0   5.0\n",
      "gamma  2.0  4.0  6.0  8.0  10.0\n",
      "根据布尔类型取值:\n",
      "          a    b    c     d     e\n",
      "alpha  0.0  0.0  0.0   0.0   0.0\n",
      "gamma  2.0  4.0  6.0   8.0  10.0\n",
      "delta  3.0  6.0  9.0  12.0  15.0\n"
     ]
    }
   ],
   "source": [
    "#选取行还可以使用切片的方式或者是布尔类型的向量：\n",
    "print (\"切片取数:\\n\",df[1:3])\n",
    "bool_vec = [True, False, True, True, False]\n",
    "print (\"根据布尔类型取值:\\n\",df[bool_vec]) #相当于选取第0、2、3行"
   ]
  },
  {
   "cell_type": "code",
   "execution_count": 50,
   "metadata": {},
   "outputs": [
    {
     "name": "stdout",
     "output_type": "stream",
     "text": [
      "         b     d\n",
      "beta   2.0   4.0\n",
      "delta  6.0  12.0\n",
      "         b     d\n",
      "beta   2.0   4.0\n",
      "delta  6.0  12.0\n",
      "         b     d\n",
      "beta   2.0   4.0\n",
      "delta  6.0  12.0\n",
      "         b     d\n",
      "beta   2.0   4.0\n",
      "delta  6.0  12.0\n"
     ]
    }
   ],
   "source": [
    "#行列组合起来选取数据：\n",
    "print (df[['b', 'd']].iloc[[1, 3]])\n",
    "print (df.iloc[[1, 3]][['b', 'd']])\n",
    "print (df[['b', 'd']].loc[['beta', 'delta']])\n",
    "print (df.loc[['beta', 'delta']][['b', 'd']])"
   ]
  },
  {
   "cell_type": "code",
   "execution_count": 52,
   "metadata": {},
   "outputs": [
    {
     "name": "stdout",
     "output_type": "stream",
     "text": [
      "         a    b     c     d     e\n",
      "alpha  0.0  0.0   0.0   0.0   0.0\n",
      "beta   1.0  2.0   3.0   4.0   5.0\n",
      "gamma  2.0  4.0   6.0   8.0  10.0\n",
      "delta  3.0  6.0   9.0  12.0  15.0\n",
      "eta    4.0  8.0  12.0  16.0  20.0\n",
      "8.0\n",
      "8.0\n"
     ]
    }
   ],
   "source": [
    "#如果不是需要访问特定行列，而只是某个特殊位置的元素的话，\n",
    "#dataframe.at和dataframe.iat\n",
    "#是最快的方式，它们分别用于使用索引和下标进行访问\n",
    "print (df)\n",
    "print (df.iat[2, 3])  #相当于第3行第4列\n",
    "print (df.at['gamma', 'd'])"
   ]
  },
  {
   "cell_type": "markdown",
   "metadata": {},
   "source": [
    "## 2.3创建时间序列"
   ]
  },
  {
   "cell_type": "markdown",
   "metadata": {},
   "source": [
    "pandas.date_range(start=None, end=None, periods=None, freq='D',\n",
    "   tz=None, normalize=False, name=None, closed=None, **kwargs)"
   ]
  },
  {
   "cell_type": "code",
   "execution_count": 53,
   "metadata": {},
   "outputs": [
    {
     "name": "stdout",
     "output_type": "stream",
     "text": [
      "DatetimeIndex(['2018-01-31', '2018-02-28', '2018-03-31', '2018-04-30',\n",
      "               '2018-05-31', '2018-06-30', '2018-07-31', '2018-08-31',\n",
      "               '2018-09-30', '2018-10-31', '2018-11-30', '2018-12-31'],\n",
      "              dtype='datetime64[ns]', freq='M')\n"
     ]
    },
    {
     "data": {
      "text/html": [
       "<div>\n",
       "<style scoped>\n",
       "    .dataframe tbody tr th:only-of-type {\n",
       "        vertical-align: middle;\n",
       "    }\n",
       "\n",
       "    .dataframe tbody tr th {\n",
       "        vertical-align: top;\n",
       "    }\n",
       "\n",
       "    .dataframe thead th {\n",
       "        text-align: right;\n",
       "    }\n",
       "</style>\n",
       "<table border=\"1\" class=\"dataframe\">\n",
       "  <thead>\n",
       "    <tr style=\"text-align: right;\">\n",
       "      <th></th>\n",
       "      <th>A</th>\n",
       "      <th>B</th>\n",
       "      <th>C</th>\n",
       "      <th>D</th>\n",
       "    </tr>\n",
       "  </thead>\n",
       "  <tbody>\n",
       "    <tr>\n",
       "      <th>2018-01-31</th>\n",
       "      <td>0.441227</td>\n",
       "      <td>-0.330870</td>\n",
       "      <td>2.430771</td>\n",
       "      <td>-0.252092</td>\n",
       "    </tr>\n",
       "    <tr>\n",
       "      <th>2018-02-28</th>\n",
       "      <td>0.109610</td>\n",
       "      <td>1.582481</td>\n",
       "      <td>-0.909232</td>\n",
       "      <td>-0.591637</td>\n",
       "    </tr>\n",
       "    <tr>\n",
       "      <th>2018-03-31</th>\n",
       "      <td>0.187603</td>\n",
       "      <td>-0.329870</td>\n",
       "      <td>-1.192765</td>\n",
       "      <td>-0.204877</td>\n",
       "    </tr>\n",
       "    <tr>\n",
       "      <th>2018-04-30</th>\n",
       "      <td>-0.358829</td>\n",
       "      <td>0.603472</td>\n",
       "      <td>-1.664789</td>\n",
       "      <td>-0.700179</td>\n",
       "    </tr>\n",
       "    <tr>\n",
       "      <th>2018-05-31</th>\n",
       "      <td>1.151391</td>\n",
       "      <td>1.857331</td>\n",
       "      <td>-1.511180</td>\n",
       "      <td>0.644848</td>\n",
       "    </tr>\n",
       "    <tr>\n",
       "      <th>2018-06-30</th>\n",
       "      <td>-0.980608</td>\n",
       "      <td>-0.856853</td>\n",
       "      <td>-0.871879</td>\n",
       "      <td>-0.422508</td>\n",
       "    </tr>\n",
       "    <tr>\n",
       "      <th>2018-07-31</th>\n",
       "      <td>0.996440</td>\n",
       "      <td>0.712421</td>\n",
       "      <td>0.059144</td>\n",
       "      <td>-0.363311</td>\n",
       "    </tr>\n",
       "    <tr>\n",
       "      <th>2018-08-31</th>\n",
       "      <td>0.003289</td>\n",
       "      <td>-0.105930</td>\n",
       "      <td>0.793053</td>\n",
       "      <td>-0.631572</td>\n",
       "    </tr>\n",
       "    <tr>\n",
       "      <th>2018-09-30</th>\n",
       "      <td>-0.006195</td>\n",
       "      <td>-0.101068</td>\n",
       "      <td>-0.052308</td>\n",
       "      <td>0.249218</td>\n",
       "    </tr>\n",
       "    <tr>\n",
       "      <th>2018-10-31</th>\n",
       "      <td>0.197660</td>\n",
       "      <td>1.334849</td>\n",
       "      <td>-0.086876</td>\n",
       "      <td>1.561532</td>\n",
       "    </tr>\n",
       "    <tr>\n",
       "      <th>2018-11-30</th>\n",
       "      <td>-0.305853</td>\n",
       "      <td>-0.477731</td>\n",
       "      <td>0.100738</td>\n",
       "      <td>0.355438</td>\n",
       "    </tr>\n",
       "    <tr>\n",
       "      <th>2018-12-31</th>\n",
       "      <td>0.269612</td>\n",
       "      <td>1.291963</td>\n",
       "      <td>1.139343</td>\n",
       "      <td>0.494440</td>\n",
       "    </tr>\n",
       "  </tbody>\n",
       "</table>\n",
       "</div>"
      ],
      "text/plain": [
       "                   A         B         C         D\n",
       "2018-01-31  0.441227 -0.330870  2.430771 -0.252092\n",
       "2018-02-28  0.109610  1.582481 -0.909232 -0.591637\n",
       "2018-03-31  0.187603 -0.329870 -1.192765 -0.204877\n",
       "2018-04-30 -0.358829  0.603472 -1.664789 -0.700179\n",
       "2018-05-31  1.151391  1.857331 -1.511180  0.644848\n",
       "2018-06-30 -0.980608 -0.856853 -0.871879 -0.422508\n",
       "2018-07-31  0.996440  0.712421  0.059144 -0.363311\n",
       "2018-08-31  0.003289 -0.105930  0.793053 -0.631572\n",
       "2018-09-30 -0.006195 -0.101068 -0.052308  0.249218\n",
       "2018-10-31  0.197660  1.334849 -0.086876  1.561532\n",
       "2018-11-30 -0.305853 -0.477731  0.100738  0.355438\n",
       "2018-12-31  0.269612  1.291963  1.139343  0.494440"
      ]
     },
     "execution_count": 53,
     "metadata": {},
     "output_type": "execute_result"
    }
   ],
   "source": [
    "dates=pd.date_range('20180101',periods=12,freq='m')\n",
    "print (dates)\n",
    "pd.DatetimeIndex(['2018-01-31', '2018-02-28', '2018-03-31', '2018-04-30',\n",
    " '2018-05-31', '2018-06-30', '2018-07-31', '2018-08-31', '2018-09-30',\n",
    "  '2018-10-31', '2018-11-30', '2018-12-31'], dtype='datetime64[ns]', \n",
    "  freq='M')\n",
    "np.random.seed(5)\n",
    "df=pd.DataFrame(np.random.randn(12,4),index=dates,\n",
    "                 columns=list('ABCD'))\n",
    "df"
   ]
  },
  {
   "cell_type": "code",
   "execution_count": 54,
   "metadata": {},
   "outputs": [
    {
     "data": {
      "text/html": [
       "<div>\n",
       "<style scoped>\n",
       "    .dataframe tbody tr th:only-of-type {\n",
       "        vertical-align: middle;\n",
       "    }\n",
       "\n",
       "    .dataframe tbody tr th {\n",
       "        vertical-align: top;\n",
       "    }\n",
       "\n",
       "    .dataframe thead th {\n",
       "        text-align: right;\n",
       "    }\n",
       "</style>\n",
       "<table border=\"1\" class=\"dataframe\">\n",
       "  <thead>\n",
       "    <tr style=\"text-align: right;\">\n",
       "      <th></th>\n",
       "      <th>A</th>\n",
       "      <th>B</th>\n",
       "      <th>C</th>\n",
       "      <th>D</th>\n",
       "    </tr>\n",
       "  </thead>\n",
       "  <tbody>\n",
       "    <tr>\n",
       "      <th>2018-01-31</th>\n",
       "      <td>0.441227</td>\n",
       "      <td>-0.330870</td>\n",
       "      <td>2.430771</td>\n",
       "      <td>-0.252092</td>\n",
       "    </tr>\n",
       "    <tr>\n",
       "      <th>2018-02-28</th>\n",
       "      <td>0.109610</td>\n",
       "      <td>1.582481</td>\n",
       "      <td>-0.909232</td>\n",
       "      <td>-0.591637</td>\n",
       "    </tr>\n",
       "    <tr>\n",
       "      <th>2018-03-31</th>\n",
       "      <td>0.187603</td>\n",
       "      <td>-0.329870</td>\n",
       "      <td>-1.192765</td>\n",
       "      <td>-0.204877</td>\n",
       "    </tr>\n",
       "    <tr>\n",
       "      <th>2018-04-30</th>\n",
       "      <td>-0.358829</td>\n",
       "      <td>0.603472</td>\n",
       "      <td>-1.664789</td>\n",
       "      <td>-0.700179</td>\n",
       "    </tr>\n",
       "    <tr>\n",
       "      <th>2018-05-31</th>\n",
       "      <td>1.151391</td>\n",
       "      <td>1.857331</td>\n",
       "      <td>-1.511180</td>\n",
       "      <td>0.644848</td>\n",
       "    </tr>\n",
       "  </tbody>\n",
       "</table>\n",
       "</div>"
      ],
      "text/plain": [
       "                   A         B         C         D\n",
       "2018-01-31  0.441227 -0.330870  2.430771 -0.252092\n",
       "2018-02-28  0.109610  1.582481 -0.909232 -0.591637\n",
       "2018-03-31  0.187603 -0.329870 -1.192765 -0.204877\n",
       "2018-04-30 -0.358829  0.603472 -1.664789 -0.700179\n",
       "2018-05-31  1.151391  1.857331 -1.511180  0.644848"
      ]
     },
     "execution_count": 54,
     "metadata": {},
     "output_type": "execute_result"
    }
   ],
   "source": [
    "#查看数据头n行 ,默认n=5\n",
    "df.head()"
   ]
  },
  {
   "cell_type": "code",
   "execution_count": 55,
   "metadata": {},
   "outputs": [
    {
     "data": {
      "text/html": [
       "<div>\n",
       "<style scoped>\n",
       "    .dataframe tbody tr th:only-of-type {\n",
       "        vertical-align: middle;\n",
       "    }\n",
       "\n",
       "    .dataframe tbody tr th {\n",
       "        vertical-align: top;\n",
       "    }\n",
       "\n",
       "    .dataframe thead th {\n",
       "        text-align: right;\n",
       "    }\n",
       "</style>\n",
       "<table border=\"1\" class=\"dataframe\">\n",
       "  <thead>\n",
       "    <tr style=\"text-align: right;\">\n",
       "      <th></th>\n",
       "      <th>A</th>\n",
       "      <th>B</th>\n",
       "      <th>C</th>\n",
       "      <th>D</th>\n",
       "    </tr>\n",
       "  </thead>\n",
       "  <tbody>\n",
       "    <tr>\n",
       "      <th>2018-10-31</th>\n",
       "      <td>0.197660</td>\n",
       "      <td>1.334849</td>\n",
       "      <td>-0.086876</td>\n",
       "      <td>1.561532</td>\n",
       "    </tr>\n",
       "    <tr>\n",
       "      <th>2018-11-30</th>\n",
       "      <td>-0.305853</td>\n",
       "      <td>-0.477731</td>\n",
       "      <td>0.100738</td>\n",
       "      <td>0.355438</td>\n",
       "    </tr>\n",
       "    <tr>\n",
       "      <th>2018-12-31</th>\n",
       "      <td>0.269612</td>\n",
       "      <td>1.291963</td>\n",
       "      <td>1.139343</td>\n",
       "      <td>0.494440</td>\n",
       "    </tr>\n",
       "  </tbody>\n",
       "</table>\n",
       "</div>"
      ],
      "text/plain": [
       "                   A         B         C         D\n",
       "2018-10-31  0.197660  1.334849 -0.086876  1.561532\n",
       "2018-11-30 -0.305853 -0.477731  0.100738  0.355438\n",
       "2018-12-31  0.269612  1.291963  1.139343  0.494440"
      ]
     },
     "execution_count": 55,
     "metadata": {},
     "output_type": "execute_result"
    }
   ],
   "source": [
    "#查看数据最后3行\n",
    "df.tail(3)"
   ]
  },
  {
   "cell_type": "code",
   "execution_count": 59,
   "metadata": {},
   "outputs": [
    {
     "name": "stdout",
     "output_type": "stream",
     "text": [
      "DatetimeIndex(['2018-01-31', '2018-02-28', '2018-03-31', '2018-04-30',\n",
      "               '2018-05-31', '2018-06-30', '2018-07-31', '2018-08-31',\n",
      "               '2018-09-30', '2018-10-31', '2018-11-30', '2018-12-31'],\n",
      "              dtype='datetime64[ns]', freq='M')\n",
      "Index(['A', 'B', 'C', 'D'], dtype='object')\n",
      "[[ 0.44122749 -0.33087015  2.43077119 -0.25209213]\n",
      " [ 0.10960984  1.58248112 -0.9092324  -0.59163666]\n",
      " [ 0.18760323 -0.32986996 -1.19276461 -0.20487651]\n",
      " [-0.35882895  0.6034716  -1.66478853 -0.70017904]\n",
      " [ 1.15139101  1.85733101 -1.51117956  0.64484751]\n",
      " [-0.98060789 -0.85685315 -0.87187918 -0.42250793]\n",
      " [ 0.99643983  0.71242127  0.05914424 -0.36331088]\n",
      " [ 0.00328884 -0.10593044  0.79305332 -0.63157163]\n",
      " [-0.00619491 -0.10106761 -0.05230815  0.24921766]\n",
      " [ 0.19766009  1.33484857 -0.08687561  1.56153229]\n",
      " [-0.30585302 -0.47773142  0.10073819  0.35543847]\n",
      " [ 0.26961241  1.29196338  1.13934298  0.4944404 ]]\n"
     ]
    }
   ],
   "source": [
    "#查看数据的index(索引）,columns （列名）和数据\n",
    "print(df.index)\n",
    "pd.DatetimeIndex(['2018-01-31', '2018-02-28', '2018-03-31', '2018-04-30',\n",
    " '2018-05-31', '2018-06-30', '2018-07-31', '2018-08-31', '2018-09-30',\n",
    "  '2018-10-31', '2018-11-30', '2018-12-31'], dtype='datetime64[ns]', \n",
    "  freq='M')\n",
    "print(df.columns)\n",
    "\n",
    "pd.Index(['A', 'B', 'C', 'D'], dtype='object')\n",
    "\n",
    "print(df.values)"
   ]
  },
  {
   "cell_type": "markdown",
   "metadata": {},
   "source": [
    "根据索引排序数据排序：（按行axis=0或列axis=1）"
   ]
  },
  {
   "cell_type": "code",
   "execution_count": 70,
   "metadata": {},
   "outputs": [
    {
     "data": {
      "text/html": [
       "<div>\n",
       "<style scoped>\n",
       "    .dataframe tbody tr th:only-of-type {\n",
       "        vertical-align: middle;\n",
       "    }\n",
       "\n",
       "    .dataframe tbody tr th {\n",
       "        vertical-align: top;\n",
       "    }\n",
       "\n",
       "    .dataframe thead th {\n",
       "        text-align: right;\n",
       "    }\n",
       "</style>\n",
       "<table border=\"1\" class=\"dataframe\">\n",
       "  <thead>\n",
       "    <tr style=\"text-align: right;\">\n",
       "      <th></th>\n",
       "      <th>A</th>\n",
       "      <th>B</th>\n",
       "      <th>C</th>\n",
       "      <th>D</th>\n",
       "    </tr>\n",
       "  </thead>\n",
       "  <tbody>\n",
       "    <tr>\n",
       "      <th>2018-01-31</th>\n",
       "      <td>0.441227</td>\n",
       "      <td>-0.330870</td>\n",
       "      <td>2.430771</td>\n",
       "      <td>-0.252092</td>\n",
       "    </tr>\n",
       "    <tr>\n",
       "      <th>2018-02-28</th>\n",
       "      <td>0.109610</td>\n",
       "      <td>1.582481</td>\n",
       "      <td>-0.909232</td>\n",
       "      <td>-0.591637</td>\n",
       "    </tr>\n",
       "    <tr>\n",
       "      <th>2018-03-31</th>\n",
       "      <td>0.187603</td>\n",
       "      <td>-0.329870</td>\n",
       "      <td>-1.192765</td>\n",
       "      <td>-0.204877</td>\n",
       "    </tr>\n",
       "    <tr>\n",
       "      <th>2018-04-30</th>\n",
       "      <td>-0.358829</td>\n",
       "      <td>0.603472</td>\n",
       "      <td>-1.664789</td>\n",
       "      <td>-0.700179</td>\n",
       "    </tr>\n",
       "    <tr>\n",
       "      <th>2018-05-31</th>\n",
       "      <td>1.151391</td>\n",
       "      <td>1.857331</td>\n",
       "      <td>-1.511180</td>\n",
       "      <td>0.644848</td>\n",
       "    </tr>\n",
       "    <tr>\n",
       "      <th>2018-06-30</th>\n",
       "      <td>-0.980608</td>\n",
       "      <td>-0.856853</td>\n",
       "      <td>-0.871879</td>\n",
       "      <td>-0.422508</td>\n",
       "    </tr>\n",
       "    <tr>\n",
       "      <th>2018-07-31</th>\n",
       "      <td>0.996440</td>\n",
       "      <td>0.712421</td>\n",
       "      <td>0.059144</td>\n",
       "      <td>-0.363311</td>\n",
       "    </tr>\n",
       "    <tr>\n",
       "      <th>2018-08-31</th>\n",
       "      <td>0.003289</td>\n",
       "      <td>-0.105930</td>\n",
       "      <td>0.793053</td>\n",
       "      <td>-0.631572</td>\n",
       "    </tr>\n",
       "    <tr>\n",
       "      <th>2018-09-30</th>\n",
       "      <td>-0.006195</td>\n",
       "      <td>-0.101068</td>\n",
       "      <td>-0.052308</td>\n",
       "      <td>0.249218</td>\n",
       "    </tr>\n",
       "    <tr>\n",
       "      <th>2018-10-31</th>\n",
       "      <td>0.197660</td>\n",
       "      <td>1.334849</td>\n",
       "      <td>-0.086876</td>\n",
       "      <td>1.561532</td>\n",
       "    </tr>\n",
       "    <tr>\n",
       "      <th>2018-11-30</th>\n",
       "      <td>-0.305853</td>\n",
       "      <td>-0.477731</td>\n",
       "      <td>0.100738</td>\n",
       "      <td>0.355438</td>\n",
       "    </tr>\n",
       "    <tr>\n",
       "      <th>2018-12-31</th>\n",
       "      <td>0.269612</td>\n",
       "      <td>1.291963</td>\n",
       "      <td>1.139343</td>\n",
       "      <td>0.494440</td>\n",
       "    </tr>\n",
       "  </tbody>\n",
       "</table>\n",
       "</div>"
      ],
      "text/plain": [
       "                   A         B         C         D\n",
       "2018-01-31  0.441227 -0.330870  2.430771 -0.252092\n",
       "2018-02-28  0.109610  1.582481 -0.909232 -0.591637\n",
       "2018-03-31  0.187603 -0.329870 -1.192765 -0.204877\n",
       "2018-04-30 -0.358829  0.603472 -1.664789 -0.700179\n",
       "2018-05-31  1.151391  1.857331 -1.511180  0.644848\n",
       "2018-06-30 -0.980608 -0.856853 -0.871879 -0.422508\n",
       "2018-07-31  0.996440  0.712421  0.059144 -0.363311\n",
       "2018-08-31  0.003289 -0.105930  0.793053 -0.631572\n",
       "2018-09-30 -0.006195 -0.101068 -0.052308  0.249218\n",
       "2018-10-31  0.197660  1.334849 -0.086876  1.561532\n",
       "2018-11-30 -0.305853 -0.477731  0.100738  0.355438\n",
       "2018-12-31  0.269612  1.291963  1.139343  0.494440"
      ]
     },
     "execution_count": 70,
     "metadata": {},
     "output_type": "execute_result"
    }
   ],
   "source": [
    "df.sort_index(axis=1,ascending=True)"
   ]
  },
  {
   "cell_type": "code",
   "execution_count": 71,
   "metadata": {},
   "outputs": [
    {
     "data": {
      "text/html": [
       "<div>\n",
       "<style scoped>\n",
       "    .dataframe tbody tr th:only-of-type {\n",
       "        vertical-align: middle;\n",
       "    }\n",
       "\n",
       "    .dataframe tbody tr th {\n",
       "        vertical-align: top;\n",
       "    }\n",
       "\n",
       "    .dataframe thead th {\n",
       "        text-align: right;\n",
       "    }\n",
       "</style>\n",
       "<table border=\"1\" class=\"dataframe\">\n",
       "  <thead>\n",
       "    <tr style=\"text-align: right;\">\n",
       "      <th></th>\n",
       "      <th>A</th>\n",
       "      <th>B</th>\n",
       "      <th>C</th>\n",
       "      <th>D</th>\n",
       "    </tr>\n",
       "  </thead>\n",
       "  <tbody>\n",
       "    <tr>\n",
       "      <th>2018-06-30</th>\n",
       "      <td>-0.980608</td>\n",
       "      <td>-0.856853</td>\n",
       "      <td>-0.871879</td>\n",
       "      <td>-0.422508</td>\n",
       "    </tr>\n",
       "    <tr>\n",
       "      <th>2018-04-30</th>\n",
       "      <td>-0.358829</td>\n",
       "      <td>0.603472</td>\n",
       "      <td>-1.664789</td>\n",
       "      <td>-0.700179</td>\n",
       "    </tr>\n",
       "    <tr>\n",
       "      <th>2018-11-30</th>\n",
       "      <td>-0.305853</td>\n",
       "      <td>-0.477731</td>\n",
       "      <td>0.100738</td>\n",
       "      <td>0.355438</td>\n",
       "    </tr>\n",
       "    <tr>\n",
       "      <th>2018-09-30</th>\n",
       "      <td>-0.006195</td>\n",
       "      <td>-0.101068</td>\n",
       "      <td>-0.052308</td>\n",
       "      <td>0.249218</td>\n",
       "    </tr>\n",
       "    <tr>\n",
       "      <th>2018-08-31</th>\n",
       "      <td>0.003289</td>\n",
       "      <td>-0.105930</td>\n",
       "      <td>0.793053</td>\n",
       "      <td>-0.631572</td>\n",
       "    </tr>\n",
       "    <tr>\n",
       "      <th>2018-02-28</th>\n",
       "      <td>0.109610</td>\n",
       "      <td>1.582481</td>\n",
       "      <td>-0.909232</td>\n",
       "      <td>-0.591637</td>\n",
       "    </tr>\n",
       "    <tr>\n",
       "      <th>2018-03-31</th>\n",
       "      <td>0.187603</td>\n",
       "      <td>-0.329870</td>\n",
       "      <td>-1.192765</td>\n",
       "      <td>-0.204877</td>\n",
       "    </tr>\n",
       "    <tr>\n",
       "      <th>2018-10-31</th>\n",
       "      <td>0.197660</td>\n",
       "      <td>1.334849</td>\n",
       "      <td>-0.086876</td>\n",
       "      <td>1.561532</td>\n",
       "    </tr>\n",
       "    <tr>\n",
       "      <th>2018-12-31</th>\n",
       "      <td>0.269612</td>\n",
       "      <td>1.291963</td>\n",
       "      <td>1.139343</td>\n",
       "      <td>0.494440</td>\n",
       "    </tr>\n",
       "    <tr>\n",
       "      <th>2018-01-31</th>\n",
       "      <td>0.441227</td>\n",
       "      <td>-0.330870</td>\n",
       "      <td>2.430771</td>\n",
       "      <td>-0.252092</td>\n",
       "    </tr>\n",
       "    <tr>\n",
       "      <th>2018-07-31</th>\n",
       "      <td>0.996440</td>\n",
       "      <td>0.712421</td>\n",
       "      <td>0.059144</td>\n",
       "      <td>-0.363311</td>\n",
       "    </tr>\n",
       "    <tr>\n",
       "      <th>2018-05-31</th>\n",
       "      <td>1.151391</td>\n",
       "      <td>1.857331</td>\n",
       "      <td>-1.511180</td>\n",
       "      <td>0.644848</td>\n",
       "    </tr>\n",
       "  </tbody>\n",
       "</table>\n",
       "</div>"
      ],
      "text/plain": [
       "                   A         B         C         D\n",
       "2018-06-30 -0.980608 -0.856853 -0.871879 -0.422508\n",
       "2018-04-30 -0.358829  0.603472 -1.664789 -0.700179\n",
       "2018-11-30 -0.305853 -0.477731  0.100738  0.355438\n",
       "2018-09-30 -0.006195 -0.101068 -0.052308  0.249218\n",
       "2018-08-31  0.003289 -0.105930  0.793053 -0.631572\n",
       "2018-02-28  0.109610  1.582481 -0.909232 -0.591637\n",
       "2018-03-31  0.187603 -0.329870 -1.192765 -0.204877\n",
       "2018-10-31  0.197660  1.334849 -0.086876  1.561532\n",
       "2018-12-31  0.269612  1.291963  1.139343  0.494440\n",
       "2018-01-31  0.441227 -0.330870  2.430771 -0.252092\n",
       "2018-07-31  0.996440  0.712421  0.059144 -0.363311\n",
       "2018-05-31  1.151391  1.857331 -1.511180  0.644848"
      ]
     },
     "execution_count": 71,
     "metadata": {},
     "output_type": "execute_result"
    }
   ],
   "source": [
    "#按某列的值排序\n",
    "df.sort_values('A')  #按A列的值从小到大排序"
   ]
  },
  {
   "cell_type": "code",
   "execution_count": 77,
   "metadata": {},
   "outputs": [
    {
     "name": "stdout",
     "output_type": "stream",
     "text": [
      "                   A         B         C         D\n",
      "2018-01-31  0.441227 -0.330870  2.430771 -0.252092\n",
      "2018-02-28  0.109610  1.582481 -0.909232 -0.591637\n",
      "2018-03-31  0.187603 -0.329870 -1.192765 -0.204877\n",
      "2018-04-30 -0.358829  0.603472 -1.664789 -0.700179\n",
      "2018-05-31  1.151391  1.857331 -1.511180  0.644848\n"
     ]
    },
    {
     "data": {
      "text/html": [
       "<div>\n",
       "<style scoped>\n",
       "    .dataframe tbody tr th:only-of-type {\n",
       "        vertical-align: middle;\n",
       "    }\n",
       "\n",
       "    .dataframe tbody tr th {\n",
       "        vertical-align: top;\n",
       "    }\n",
       "\n",
       "    .dataframe thead th {\n",
       "        text-align: right;\n",
       "    }\n",
       "</style>\n",
       "<table border=\"1\" class=\"dataframe\">\n",
       "  <thead>\n",
       "    <tr style=\"text-align: right;\">\n",
       "      <th></th>\n",
       "      <th>A</th>\n",
       "      <th>C</th>\n",
       "    </tr>\n",
       "  </thead>\n",
       "  <tbody>\n",
       "    <tr>\n",
       "      <th>2018-01-31</th>\n",
       "      <td>0.441227</td>\n",
       "      <td>2.430771</td>\n",
       "    </tr>\n",
       "    <tr>\n",
       "      <th>2018-02-28</th>\n",
       "      <td>0.109610</td>\n",
       "      <td>-0.909232</td>\n",
       "    </tr>\n",
       "    <tr>\n",
       "      <th>2018-03-31</th>\n",
       "      <td>0.187603</td>\n",
       "      <td>-1.192765</td>\n",
       "    </tr>\n",
       "    <tr>\n",
       "      <th>2018-04-30</th>\n",
       "      <td>-0.358829</td>\n",
       "      <td>-1.664789</td>\n",
       "    </tr>\n",
       "  </tbody>\n",
       "</table>\n",
       "</div>"
      ],
      "text/plain": [
       "                   A         C\n",
       "2018-01-31  0.441227  2.430771\n",
       "2018-02-28  0.109610 -0.909232\n",
       "2018-03-31  0.187603 -1.192765\n",
       "2018-04-30 -0.358829 -1.664789"
      ]
     },
     "execution_count": 77,
     "metadata": {},
     "output_type": "execute_result"
    }
   ],
   "source": [
    "print(df.head(5))\n",
    "#数据选取loc和iloc\n",
    "df.loc[dates[0]]\n",
    "\n",
    "df.loc['20180131':'20180430',['A','C']]  #根据标签取数"
   ]
  },
  {
   "cell_type": "code",
   "execution_count": 78,
   "metadata": {},
   "outputs": [
    {
     "data": {
      "text/html": [
       "<div>\n",
       "<style scoped>\n",
       "    .dataframe tbody tr th:only-of-type {\n",
       "        vertical-align: middle;\n",
       "    }\n",
       "\n",
       "    .dataframe tbody tr th {\n",
       "        vertical-align: top;\n",
       "    }\n",
       "\n",
       "    .dataframe thead th {\n",
       "        text-align: right;\n",
       "    }\n",
       "</style>\n",
       "<table border=\"1\" class=\"dataframe\">\n",
       "  <thead>\n",
       "    <tr style=\"text-align: right;\">\n",
       "      <th></th>\n",
       "      <th>B</th>\n",
       "      <th>C</th>\n",
       "      <th>D</th>\n",
       "    </tr>\n",
       "  </thead>\n",
       "  <tbody>\n",
       "    <tr>\n",
       "      <th>2018-02-28</th>\n",
       "      <td>1.582481</td>\n",
       "      <td>-0.909232</td>\n",
       "      <td>-0.591637</td>\n",
       "    </tr>\n",
       "    <tr>\n",
       "      <th>2018-03-31</th>\n",
       "      <td>-0.329870</td>\n",
       "      <td>-1.192765</td>\n",
       "      <td>-0.204877</td>\n",
       "    </tr>\n",
       "  </tbody>\n",
       "</table>\n",
       "</div>"
      ],
      "text/plain": [
       "                   B         C         D\n",
       "2018-02-28  1.582481 -0.909232 -0.591637\n",
       "2018-03-31 -0.329870 -1.192765 -0.204877"
      ]
     },
     "execution_count": 78,
     "metadata": {},
     "output_type": "execute_result"
    }
   ],
   "source": [
    "df.iloc[1:3,1:4]  #根据所在位置取数，注意从0开始数"
   ]
  },
  {
   "cell_type": "code",
   "execution_count": 79,
   "metadata": {},
   "outputs": [
    {
     "data": {
      "text/html": [
       "<div>\n",
       "<style scoped>\n",
       "    .dataframe tbody tr th:only-of-type {\n",
       "        vertical-align: middle;\n",
       "    }\n",
       "\n",
       "    .dataframe tbody tr th {\n",
       "        vertical-align: top;\n",
       "    }\n",
       "\n",
       "    .dataframe thead th {\n",
       "        text-align: right;\n",
       "    }\n",
       "</style>\n",
       "<table border=\"1\" class=\"dataframe\">\n",
       "  <thead>\n",
       "    <tr style=\"text-align: right;\">\n",
       "      <th></th>\n",
       "      <th>A</th>\n",
       "      <th>D</th>\n",
       "    </tr>\n",
       "  </thead>\n",
       "  <tbody>\n",
       "    <tr>\n",
       "      <th>2018-02-28</th>\n",
       "      <td>0.109610</td>\n",
       "      <td>-0.591637</td>\n",
       "    </tr>\n",
       "    <tr>\n",
       "      <th>2018-04-30</th>\n",
       "      <td>-0.358829</td>\n",
       "      <td>-0.700179</td>\n",
       "    </tr>\n",
       "    <tr>\n",
       "      <th>2018-06-30</th>\n",
       "      <td>-0.980608</td>\n",
       "      <td>-0.422508</td>\n",
       "    </tr>\n",
       "  </tbody>\n",
       "</table>\n",
       "</div>"
      ],
      "text/plain": [
       "                   A         D\n",
       "2018-02-28  0.109610 -0.591637\n",
       "2018-04-30 -0.358829 -0.700179\n",
       "2018-06-30 -0.980608 -0.422508"
      ]
     },
     "execution_count": 79,
     "metadata": {},
     "output_type": "execute_result"
    }
   ],
   "source": [
    "df.iloc[[1,3,5],[0,3]]  #根据特定行和列取数"
   ]
  },
  {
   "cell_type": "code",
   "execution_count": 80,
   "metadata": {},
   "outputs": [
    {
     "data": {
      "text/html": [
       "<div>\n",
       "<style scoped>\n",
       "    .dataframe tbody tr th:only-of-type {\n",
       "        vertical-align: middle;\n",
       "    }\n",
       "\n",
       "    .dataframe tbody tr th {\n",
       "        vertical-align: top;\n",
       "    }\n",
       "\n",
       "    .dataframe thead th {\n",
       "        text-align: right;\n",
       "    }\n",
       "</style>\n",
       "<table border=\"1\" class=\"dataframe\">\n",
       "  <thead>\n",
       "    <tr style=\"text-align: right;\">\n",
       "      <th></th>\n",
       "      <th>A</th>\n",
       "      <th>B</th>\n",
       "      <th>C</th>\n",
       "      <th>D</th>\n",
       "    </tr>\n",
       "  </thead>\n",
       "  <tbody>\n",
       "    <tr>\n",
       "      <th>2018-01-31</th>\n",
       "      <td>0.441227</td>\n",
       "      <td>-0.330870</td>\n",
       "      <td>2.430771</td>\n",
       "      <td>-0.252092</td>\n",
       "    </tr>\n",
       "    <tr>\n",
       "      <th>2018-02-28</th>\n",
       "      <td>0.109610</td>\n",
       "      <td>1.582481</td>\n",
       "      <td>-0.909232</td>\n",
       "      <td>-0.591637</td>\n",
       "    </tr>\n",
       "    <tr>\n",
       "      <th>2018-03-31</th>\n",
       "      <td>0.187603</td>\n",
       "      <td>-0.329870</td>\n",
       "      <td>-1.192765</td>\n",
       "      <td>-0.204877</td>\n",
       "    </tr>\n",
       "    <tr>\n",
       "      <th>2018-05-31</th>\n",
       "      <td>1.151391</td>\n",
       "      <td>1.857331</td>\n",
       "      <td>-1.511180</td>\n",
       "      <td>0.644848</td>\n",
       "    </tr>\n",
       "    <tr>\n",
       "      <th>2018-07-31</th>\n",
       "      <td>0.996440</td>\n",
       "      <td>0.712421</td>\n",
       "      <td>0.059144</td>\n",
       "      <td>-0.363311</td>\n",
       "    </tr>\n",
       "    <tr>\n",
       "      <th>2018-08-31</th>\n",
       "      <td>0.003289</td>\n",
       "      <td>-0.105930</td>\n",
       "      <td>0.793053</td>\n",
       "      <td>-0.631572</td>\n",
       "    </tr>\n",
       "    <tr>\n",
       "      <th>2018-10-31</th>\n",
       "      <td>0.197660</td>\n",
       "      <td>1.334849</td>\n",
       "      <td>-0.086876</td>\n",
       "      <td>1.561532</td>\n",
       "    </tr>\n",
       "    <tr>\n",
       "      <th>2018-12-31</th>\n",
       "      <td>0.269612</td>\n",
       "      <td>1.291963</td>\n",
       "      <td>1.139343</td>\n",
       "      <td>0.494440</td>\n",
       "    </tr>\n",
       "  </tbody>\n",
       "</table>\n",
       "</div>"
      ],
      "text/plain": [
       "                   A         B         C         D\n",
       "2018-01-31  0.441227 -0.330870  2.430771 -0.252092\n",
       "2018-02-28  0.109610  1.582481 -0.909232 -0.591637\n",
       "2018-03-31  0.187603 -0.329870 -1.192765 -0.204877\n",
       "2018-05-31  1.151391  1.857331 -1.511180  0.644848\n",
       "2018-07-31  0.996440  0.712421  0.059144 -0.363311\n",
       "2018-08-31  0.003289 -0.105930  0.793053 -0.631572\n",
       "2018-10-31  0.197660  1.334849 -0.086876  1.561532\n",
       "2018-12-31  0.269612  1.291963  1.139343  0.494440"
      ]
     },
     "execution_count": 80,
     "metadata": {},
     "output_type": "execute_result"
    }
   ],
   "source": [
    "df[df.A>0] #相当于取出A列大于0时的数据列表"
   ]
  },
  {
   "cell_type": "code",
   "execution_count": 81,
   "metadata": {},
   "outputs": [
    {
     "data": {
      "text/html": [
       "<div>\n",
       "<style scoped>\n",
       "    .dataframe tbody tr th:only-of-type {\n",
       "        vertical-align: middle;\n",
       "    }\n",
       "\n",
       "    .dataframe tbody tr th {\n",
       "        vertical-align: top;\n",
       "    }\n",
       "\n",
       "    .dataframe thead th {\n",
       "        text-align: right;\n",
       "    }\n",
       "</style>\n",
       "<table border=\"1\" class=\"dataframe\">\n",
       "  <thead>\n",
       "    <tr style=\"text-align: right;\">\n",
       "      <th></th>\n",
       "      <th>A</th>\n",
       "      <th>B</th>\n",
       "      <th>C</th>\n",
       "      <th>D</th>\n",
       "    </tr>\n",
       "  </thead>\n",
       "  <tbody>\n",
       "    <tr>\n",
       "      <th>2018-01-31</th>\n",
       "      <td>0.441227</td>\n",
       "      <td>NaN</td>\n",
       "      <td>2.430771</td>\n",
       "      <td>NaN</td>\n",
       "    </tr>\n",
       "    <tr>\n",
       "      <th>2018-02-28</th>\n",
       "      <td>0.109610</td>\n",
       "      <td>1.582481</td>\n",
       "      <td>NaN</td>\n",
       "      <td>NaN</td>\n",
       "    </tr>\n",
       "    <tr>\n",
       "      <th>2018-03-31</th>\n",
       "      <td>0.187603</td>\n",
       "      <td>NaN</td>\n",
       "      <td>NaN</td>\n",
       "      <td>NaN</td>\n",
       "    </tr>\n",
       "    <tr>\n",
       "      <th>2018-04-30</th>\n",
       "      <td>NaN</td>\n",
       "      <td>0.603472</td>\n",
       "      <td>NaN</td>\n",
       "      <td>NaN</td>\n",
       "    </tr>\n",
       "    <tr>\n",
       "      <th>2018-05-31</th>\n",
       "      <td>1.151391</td>\n",
       "      <td>1.857331</td>\n",
       "      <td>NaN</td>\n",
       "      <td>0.644848</td>\n",
       "    </tr>\n",
       "    <tr>\n",
       "      <th>2018-06-30</th>\n",
       "      <td>NaN</td>\n",
       "      <td>NaN</td>\n",
       "      <td>NaN</td>\n",
       "      <td>NaN</td>\n",
       "    </tr>\n",
       "    <tr>\n",
       "      <th>2018-07-31</th>\n",
       "      <td>0.996440</td>\n",
       "      <td>0.712421</td>\n",
       "      <td>0.059144</td>\n",
       "      <td>NaN</td>\n",
       "    </tr>\n",
       "    <tr>\n",
       "      <th>2018-08-31</th>\n",
       "      <td>0.003289</td>\n",
       "      <td>NaN</td>\n",
       "      <td>0.793053</td>\n",
       "      <td>NaN</td>\n",
       "    </tr>\n",
       "    <tr>\n",
       "      <th>2018-09-30</th>\n",
       "      <td>NaN</td>\n",
       "      <td>NaN</td>\n",
       "      <td>NaN</td>\n",
       "      <td>0.249218</td>\n",
       "    </tr>\n",
       "    <tr>\n",
       "      <th>2018-10-31</th>\n",
       "      <td>0.197660</td>\n",
       "      <td>1.334849</td>\n",
       "      <td>NaN</td>\n",
       "      <td>1.561532</td>\n",
       "    </tr>\n",
       "    <tr>\n",
       "      <th>2018-11-30</th>\n",
       "      <td>NaN</td>\n",
       "      <td>NaN</td>\n",
       "      <td>0.100738</td>\n",
       "      <td>0.355438</td>\n",
       "    </tr>\n",
       "    <tr>\n",
       "      <th>2018-12-31</th>\n",
       "      <td>0.269612</td>\n",
       "      <td>1.291963</td>\n",
       "      <td>1.139343</td>\n",
       "      <td>0.494440</td>\n",
       "    </tr>\n",
       "  </tbody>\n",
       "</table>\n",
       "</div>"
      ],
      "text/plain": [
       "                   A         B         C         D\n",
       "2018-01-31  0.441227       NaN  2.430771       NaN\n",
       "2018-02-28  0.109610  1.582481       NaN       NaN\n",
       "2018-03-31  0.187603       NaN       NaN       NaN\n",
       "2018-04-30       NaN  0.603472       NaN       NaN\n",
       "2018-05-31  1.151391  1.857331       NaN  0.644848\n",
       "2018-06-30       NaN       NaN       NaN       NaN\n",
       "2018-07-31  0.996440  0.712421  0.059144       NaN\n",
       "2018-08-31  0.003289       NaN  0.793053       NaN\n",
       "2018-09-30       NaN       NaN       NaN  0.249218\n",
       "2018-10-31  0.197660  1.334849       NaN  1.561532\n",
       "2018-11-30       NaN       NaN  0.100738  0.355438\n",
       "2018-12-31  0.269612  1.291963  1.139343  0.494440"
      ]
     },
     "execution_count": 81,
     "metadata": {},
     "output_type": "execute_result"
    }
   ],
   "source": [
    "df[df>0]  #显示值大于0的数，其余使用NaN代替\n",
    "\n",
    "#為何會產生NaN是因為df>0會產生一個布林遮罩，而df[df>0]便會保留True的值，其它變成NaN其它變成NaN\n",
    "\n",
    "#注意!!!此方法不會改變資料結構，但上面的那個會"
   ]
  },
  {
   "cell_type": "markdown",
   "metadata": {},
   "source": [
    "##### 直覺記憶法\n",
    "* df[df > 0] 👉 \"數值層級的篩選\"（保留符合條件的數值，不符合的變 NaN）。\n",
    "* df[df.A > 0] 👉 \"列層級的篩選\"（A 欄符合條件時，整列數據保留，否則刪除）。"
   ]
  },
  {
   "cell_type": "markdown",
   "metadata": {},
   "source": [
    "数据筛选isin()"
   ]
  },
  {
   "cell_type": "code",
   "execution_count": 82,
   "metadata": {},
   "outputs": [
    {
     "data": {
      "text/html": [
       "<div>\n",
       "<style scoped>\n",
       "    .dataframe tbody tr th:only-of-type {\n",
       "        vertical-align: middle;\n",
       "    }\n",
       "\n",
       "    .dataframe tbody tr th {\n",
       "        vertical-align: top;\n",
       "    }\n",
       "\n",
       "    .dataframe thead th {\n",
       "        text-align: right;\n",
       "    }\n",
       "</style>\n",
       "<table border=\"1\" class=\"dataframe\">\n",
       "  <thead>\n",
       "    <tr style=\"text-align: right;\">\n",
       "      <th></th>\n",
       "      <th>A</th>\n",
       "      <th>B</th>\n",
       "      <th>C</th>\n",
       "      <th>D</th>\n",
       "      <th>E</th>\n",
       "    </tr>\n",
       "  </thead>\n",
       "  <tbody>\n",
       "    <tr>\n",
       "      <th>2018-01-31</th>\n",
       "      <td>0.441227</td>\n",
       "      <td>-0.330870</td>\n",
       "      <td>2.430771</td>\n",
       "      <td>-0.252092</td>\n",
       "      <td>0</td>\n",
       "    </tr>\n",
       "    <tr>\n",
       "      <th>2018-02-28</th>\n",
       "      <td>0.109610</td>\n",
       "      <td>1.582481</td>\n",
       "      <td>-0.909232</td>\n",
       "      <td>-0.591637</td>\n",
       "      <td>1</td>\n",
       "    </tr>\n",
       "    <tr>\n",
       "      <th>2018-03-31</th>\n",
       "      <td>0.187603</td>\n",
       "      <td>-0.329870</td>\n",
       "      <td>-1.192765</td>\n",
       "      <td>-0.204877</td>\n",
       "      <td>2</td>\n",
       "    </tr>\n",
       "    <tr>\n",
       "      <th>2018-04-30</th>\n",
       "      <td>-0.358829</td>\n",
       "      <td>0.603472</td>\n",
       "      <td>-1.664789</td>\n",
       "      <td>-0.700179</td>\n",
       "      <td>3</td>\n",
       "    </tr>\n",
       "    <tr>\n",
       "      <th>2018-05-31</th>\n",
       "      <td>1.151391</td>\n",
       "      <td>1.857331</td>\n",
       "      <td>-1.511180</td>\n",
       "      <td>0.644848</td>\n",
       "      <td>4</td>\n",
       "    </tr>\n",
       "    <tr>\n",
       "      <th>2018-06-30</th>\n",
       "      <td>-0.980608</td>\n",
       "      <td>-0.856853</td>\n",
       "      <td>-0.871879</td>\n",
       "      <td>-0.422508</td>\n",
       "      <td>5</td>\n",
       "    </tr>\n",
       "    <tr>\n",
       "      <th>2018-07-31</th>\n",
       "      <td>0.996440</td>\n",
       "      <td>0.712421</td>\n",
       "      <td>0.059144</td>\n",
       "      <td>-0.363311</td>\n",
       "      <td>6</td>\n",
       "    </tr>\n",
       "    <tr>\n",
       "      <th>2018-08-31</th>\n",
       "      <td>0.003289</td>\n",
       "      <td>-0.105930</td>\n",
       "      <td>0.793053</td>\n",
       "      <td>-0.631572</td>\n",
       "      <td>7</td>\n",
       "    </tr>\n",
       "    <tr>\n",
       "      <th>2018-09-30</th>\n",
       "      <td>-0.006195</td>\n",
       "      <td>-0.101068</td>\n",
       "      <td>-0.052308</td>\n",
       "      <td>0.249218</td>\n",
       "      <td>8</td>\n",
       "    </tr>\n",
       "    <tr>\n",
       "      <th>2018-10-31</th>\n",
       "      <td>0.197660</td>\n",
       "      <td>1.334849</td>\n",
       "      <td>-0.086876</td>\n",
       "      <td>1.561532</td>\n",
       "      <td>9</td>\n",
       "    </tr>\n",
       "    <tr>\n",
       "      <th>2018-11-30</th>\n",
       "      <td>-0.305853</td>\n",
       "      <td>-0.477731</td>\n",
       "      <td>0.100738</td>\n",
       "      <td>0.355438</td>\n",
       "      <td>10</td>\n",
       "    </tr>\n",
       "    <tr>\n",
       "      <th>2018-12-31</th>\n",
       "      <td>0.269612</td>\n",
       "      <td>1.291963</td>\n",
       "      <td>1.139343</td>\n",
       "      <td>0.494440</td>\n",
       "      <td>11</td>\n",
       "    </tr>\n",
       "  </tbody>\n",
       "</table>\n",
       "</div>"
      ],
      "text/plain": [
       "                   A         B         C         D   E\n",
       "2018-01-31  0.441227 -0.330870  2.430771 -0.252092   0\n",
       "2018-02-28  0.109610  1.582481 -0.909232 -0.591637   1\n",
       "2018-03-31  0.187603 -0.329870 -1.192765 -0.204877   2\n",
       "2018-04-30 -0.358829  0.603472 -1.664789 -0.700179   3\n",
       "2018-05-31  1.151391  1.857331 -1.511180  0.644848   4\n",
       "2018-06-30 -0.980608 -0.856853 -0.871879 -0.422508   5\n",
       "2018-07-31  0.996440  0.712421  0.059144 -0.363311   6\n",
       "2018-08-31  0.003289 -0.105930  0.793053 -0.631572   7\n",
       "2018-09-30 -0.006195 -0.101068 -0.052308  0.249218   8\n",
       "2018-10-31  0.197660  1.334849 -0.086876  1.561532   9\n",
       "2018-11-30 -0.305853 -0.477731  0.100738  0.355438  10\n",
       "2018-12-31  0.269612  1.291963  1.139343  0.494440  11"
      ]
     },
     "execution_count": 82,
     "metadata": {},
     "output_type": "execute_result"
    }
   ],
   "source": [
    "df2=df.copy() #复制df数据\n",
    "df2['E']=np.arange(12)\n",
    "df2"
   ]
  },
  {
   "cell_type": "code",
   "execution_count": 85,
   "metadata": {},
   "outputs": [
    {
     "name": "stdout",
     "output_type": "stream",
     "text": [
      "2018-01-31     True\n",
      "2018-02-28    False\n",
      "2018-03-31     True\n",
      "2018-04-30    False\n",
      "2018-05-31     True\n",
      "2018-06-30    False\n",
      "2018-07-31    False\n",
      "2018-08-31    False\n",
      "2018-09-30    False\n",
      "2018-10-31    False\n",
      "2018-11-30    False\n",
      "2018-12-31    False\n",
      "Freq: M, Name: E, dtype: bool\n"
     ]
    },
    {
     "data": {
      "text/html": [
       "<div>\n",
       "<style scoped>\n",
       "    .dataframe tbody tr th:only-of-type {\n",
       "        vertical-align: middle;\n",
       "    }\n",
       "\n",
       "    .dataframe tbody tr th {\n",
       "        vertical-align: top;\n",
       "    }\n",
       "\n",
       "    .dataframe thead th {\n",
       "        text-align: right;\n",
       "    }\n",
       "</style>\n",
       "<table border=\"1\" class=\"dataframe\">\n",
       "  <thead>\n",
       "    <tr style=\"text-align: right;\">\n",
       "      <th></th>\n",
       "      <th>A</th>\n",
       "      <th>B</th>\n",
       "      <th>C</th>\n",
       "      <th>D</th>\n",
       "      <th>E</th>\n",
       "    </tr>\n",
       "  </thead>\n",
       "  <tbody>\n",
       "    <tr>\n",
       "      <th>2018-01-31</th>\n",
       "      <td>0.441227</td>\n",
       "      <td>-0.330870</td>\n",
       "      <td>2.430771</td>\n",
       "      <td>-0.252092</td>\n",
       "      <td>0</td>\n",
       "    </tr>\n",
       "    <tr>\n",
       "      <th>2018-03-31</th>\n",
       "      <td>0.187603</td>\n",
       "      <td>-0.329870</td>\n",
       "      <td>-1.192765</td>\n",
       "      <td>-0.204877</td>\n",
       "      <td>2</td>\n",
       "    </tr>\n",
       "    <tr>\n",
       "      <th>2018-05-31</th>\n",
       "      <td>1.151391</td>\n",
       "      <td>1.857331</td>\n",
       "      <td>-1.511180</td>\n",
       "      <td>0.644848</td>\n",
       "      <td>4</td>\n",
       "    </tr>\n",
       "  </tbody>\n",
       "</table>\n",
       "</div>"
      ],
      "text/plain": [
       "                   A         B         C         D  E\n",
       "2018-01-31  0.441227 -0.330870  2.430771 -0.252092  0\n",
       "2018-03-31  0.187603 -0.329870 -1.192765 -0.204877  2\n",
       "2018-05-31  1.151391  1.857331 -1.511180  0.644848  4"
      ]
     },
     "execution_count": 85,
     "metadata": {},
     "output_type": "execute_result"
    }
   ],
   "source": [
    "print(df2['E'].isin([0,2,4]))\n",
    "df2[df2['E'].isin([0,2,4])]"
   ]
  },
  {
   "cell_type": "markdown",
   "metadata": {},
   "source": [
    "# 3.缺失值處裡"
   ]
  },
  {
   "cell_type": "markdown",
   "metadata": {},
   "source": [
    "### 缺失值用NaN显示"
   ]
  },
  {
   "cell_type": "code",
   "execution_count": 127,
   "metadata": {},
   "outputs": [
    {
     "data": {
      "text/html": [
       "<div>\n",
       "<style scoped>\n",
       "    .dataframe tbody tr th:only-of-type {\n",
       "        vertical-align: middle;\n",
       "    }\n",
       "\n",
       "    .dataframe tbody tr th {\n",
       "        vertical-align: top;\n",
       "    }\n",
       "\n",
       "    .dataframe thead th {\n",
       "        text-align: right;\n",
       "    }\n",
       "</style>\n",
       "<table border=\"1\" class=\"dataframe\">\n",
       "  <thead>\n",
       "    <tr style=\"text-align: right;\">\n",
       "      <th></th>\n",
       "      <th>A</th>\n",
       "      <th>B</th>\n",
       "      <th>C</th>\n",
       "      <th>D</th>\n",
       "    </tr>\n",
       "  </thead>\n",
       "  <tbody>\n",
       "    <tr>\n",
       "      <th>2018-10-01</th>\n",
       "      <td>-0.311784</td>\n",
       "      <td>0.729004</td>\n",
       "      <td>0.217821</td>\n",
       "      <td>-0.899092</td>\n",
       "    </tr>\n",
       "    <tr>\n",
       "      <th>2018-10-02</th>\n",
       "      <td>-2.486781</td>\n",
       "      <td>0.913252</td>\n",
       "      <td>1.127064</td>\n",
       "      <td>-1.514093</td>\n",
       "    </tr>\n",
       "    <tr>\n",
       "      <th>2018-10-03</th>\n",
       "      <td>1.639291</td>\n",
       "      <td>-0.429894</td>\n",
       "      <td>2.631281</td>\n",
       "      <td>0.601822</td>\n",
       "    </tr>\n",
       "    <tr>\n",
       "      <th>2018-10-04</th>\n",
       "      <td>-0.335882</td>\n",
       "      <td>1.237738</td>\n",
       "      <td>0.111128</td>\n",
       "      <td>0.129151</td>\n",
       "    </tr>\n",
       "    <tr>\n",
       "      <th>2018-10-05</th>\n",
       "      <td>0.076128</td>\n",
       "      <td>-0.155128</td>\n",
       "      <td>0.634225</td>\n",
       "      <td>0.810655</td>\n",
       "    </tr>\n",
       "  </tbody>\n",
       "</table>\n",
       "</div>"
      ],
      "text/plain": [
       "                   A         B         C         D\n",
       "2018-10-01 -0.311784  0.729004  0.217821 -0.899092\n",
       "2018-10-02 -2.486781  0.913252  1.127064 -1.514093\n",
       "2018-10-03  1.639291 -0.429894  2.631281  0.601822\n",
       "2018-10-04 -0.335882  1.237738  0.111128  0.129151\n",
       "2018-10-05  0.076128 -0.155128  0.634225  0.810655"
      ]
     },
     "execution_count": 127,
     "metadata": {},
     "output_type": "execute_result"
    }
   ],
   "source": [
    "date3=pd.date_range('20181001',periods=5)\n",
    "np.random.seed(6)\n",
    "data=np.random.randn(5,4)\n",
    "df3 = pd.DataFrame(data = data, index=date3, columns=list('ABCD'))\n",
    "df3"
   ]
  },
  {
   "cell_type": "code",
   "execution_count": 128,
   "metadata": {},
   "outputs": [
    {
     "data": {
      "text/html": [
       "<div>\n",
       "<style scoped>\n",
       "    .dataframe tbody tr th:only-of-type {\n",
       "        vertical-align: middle;\n",
       "    }\n",
       "\n",
       "    .dataframe tbody tr th {\n",
       "        vertical-align: top;\n",
       "    }\n",
       "\n",
       "    .dataframe thead th {\n",
       "        text-align: right;\n",
       "    }\n",
       "</style>\n",
       "<table border=\"1\" class=\"dataframe\">\n",
       "  <thead>\n",
       "    <tr style=\"text-align: right;\">\n",
       "      <th></th>\n",
       "      <th>A</th>\n",
       "      <th>B</th>\n",
       "      <th>C</th>\n",
       "      <th>D</th>\n",
       "    </tr>\n",
       "  </thead>\n",
       "  <tbody>\n",
       "    <tr>\n",
       "      <th>2018-10-01</th>\n",
       "      <td>-0.311784</td>\n",
       "      <td>0.729004</td>\n",
       "      <td>0.217821</td>\n",
       "      <td>-0.899092</td>\n",
       "    </tr>\n",
       "    <tr>\n",
       "      <th>2018-10-02</th>\n",
       "      <td>-2.486781</td>\n",
       "      <td>0.913252</td>\n",
       "      <td>NaN</td>\n",
       "      <td>-1.514093</td>\n",
       "    </tr>\n",
       "    <tr>\n",
       "      <th>2018-10-03</th>\n",
       "      <td>1.639291</td>\n",
       "      <td>-0.429894</td>\n",
       "      <td>2.631281</td>\n",
       "      <td>0.601822</td>\n",
       "    </tr>\n",
       "    <tr>\n",
       "      <th>2018-10-04</th>\n",
       "      <td>-0.335882</td>\n",
       "      <td>1.237738</td>\n",
       "      <td>0.111128</td>\n",
       "      <td>NaN</td>\n",
       "    </tr>\n",
       "    <tr>\n",
       "      <th>2018-10-05</th>\n",
       "      <td>0.076128</td>\n",
       "      <td>-0.155128</td>\n",
       "      <td>0.634225</td>\n",
       "      <td>0.810655</td>\n",
       "    </tr>\n",
       "  </tbody>\n",
       "</table>\n",
       "</div>"
      ],
      "text/plain": [
       "                   A         B         C         D\n",
       "2018-10-01 -0.311784  0.729004  0.217821 -0.899092\n",
       "2018-10-02 -2.486781  0.913252       NaN -1.514093\n",
       "2018-10-03  1.639291 -0.429894  2.631281  0.601822\n",
       "2018-10-04 -0.335882  1.237738  0.111128       NaN\n",
       "2018-10-05  0.076128 -0.155128  0.634225  0.810655"
      ]
     },
     "execution_count": 128,
     "metadata": {},
     "output_type": "execute_result"
    }
   ],
   "source": [
    "df3.iat[3,3]=np.NAN#令第3行第3列的数为缺失值（0.129151）\n",
    "df3.iat[1,2]=np.NAN  #令第1行第2列的数为缺失值（1.127064）\n",
    "df3"
   ]
  },
  {
   "cell_type": "code",
   "execution_count": 95,
   "metadata": {},
   "outputs": [
    {
     "data": {
      "text/html": [
       "<div>\n",
       "<style scoped>\n",
       "    .dataframe tbody tr th:only-of-type {\n",
       "        vertical-align: middle;\n",
       "    }\n",
       "\n",
       "    .dataframe tbody tr th {\n",
       "        vertical-align: top;\n",
       "    }\n",
       "\n",
       "    .dataframe thead th {\n",
       "        text-align: right;\n",
       "    }\n",
       "</style>\n",
       "<table border=\"1\" class=\"dataframe\">\n",
       "  <thead>\n",
       "    <tr style=\"text-align: right;\">\n",
       "      <th></th>\n",
       "      <th>A</th>\n",
       "      <th>B</th>\n",
       "      <th>C</th>\n",
       "      <th>D</th>\n",
       "    </tr>\n",
       "  </thead>\n",
       "  <tbody>\n",
       "    <tr>\n",
       "      <th>2018-10-01</th>\n",
       "      <td>-0.311784</td>\n",
       "      <td>0.729004</td>\n",
       "      <td>0.217821</td>\n",
       "      <td>-0.899092</td>\n",
       "    </tr>\n",
       "    <tr>\n",
       "      <th>2018-10-03</th>\n",
       "      <td>1.639291</td>\n",
       "      <td>-0.429894</td>\n",
       "      <td>2.631281</td>\n",
       "      <td>0.601822</td>\n",
       "    </tr>\n",
       "    <tr>\n",
       "      <th>2018-10-05</th>\n",
       "      <td>0.076128</td>\n",
       "      <td>-0.155128</td>\n",
       "      <td>0.634225</td>\n",
       "      <td>0.810655</td>\n",
       "    </tr>\n",
       "  </tbody>\n",
       "</table>\n",
       "</div>"
      ],
      "text/plain": [
       "                   A         B         C         D\n",
       "2018-10-01 -0.311784  0.729004  0.217821 -0.899092\n",
       "2018-10-03  1.639291 -0.429894  2.631281  0.601822\n",
       "2018-10-05  0.076128 -0.155128  0.634225  0.810655"
      ]
     },
     "execution_count": 95,
     "metadata": {},
     "output_type": "execute_result"
    }
   ],
   "source": [
    "#丢弃存在缺失值的行\n",
    "#设定how=all只会删除那些全是NaN的列：\n",
    "df3.dropna(how='any')\n",
    "\n",
    "# how='any'\t只要該行/列有 NaN，就刪除\n",
    "# how='all'\t只有該行/列全部都是 NaN 才刪除"
   ]
  },
  {
   "cell_type": "code",
   "execution_count": 98,
   "metadata": {},
   "outputs": [
    {
     "data": {
      "text/html": [
       "<div>\n",
       "<style scoped>\n",
       "    .dataframe tbody tr th:only-of-type {\n",
       "        vertical-align: middle;\n",
       "    }\n",
       "\n",
       "    .dataframe tbody tr th {\n",
       "        vertical-align: top;\n",
       "    }\n",
       "\n",
       "    .dataframe thead th {\n",
       "        text-align: right;\n",
       "    }\n",
       "</style>\n",
       "<table border=\"1\" class=\"dataframe\">\n",
       "  <thead>\n",
       "    <tr style=\"text-align: right;\">\n",
       "      <th></th>\n",
       "      <th>A</th>\n",
       "      <th>B</th>\n",
       "    </tr>\n",
       "  </thead>\n",
       "  <tbody>\n",
       "    <tr>\n",
       "      <th>2018-10-01</th>\n",
       "      <td>-0.311784</td>\n",
       "      <td>0.729004</td>\n",
       "    </tr>\n",
       "    <tr>\n",
       "      <th>2018-10-02</th>\n",
       "      <td>-2.486781</td>\n",
       "      <td>0.913252</td>\n",
       "    </tr>\n",
       "    <tr>\n",
       "      <th>2018-10-03</th>\n",
       "      <td>1.639291</td>\n",
       "      <td>-0.429894</td>\n",
       "    </tr>\n",
       "    <tr>\n",
       "      <th>2018-10-04</th>\n",
       "      <td>-0.335882</td>\n",
       "      <td>1.237738</td>\n",
       "    </tr>\n",
       "    <tr>\n",
       "      <th>2018-10-05</th>\n",
       "      <td>0.076128</td>\n",
       "      <td>-0.155128</td>\n",
       "    </tr>\n",
       "  </tbody>\n",
       "</table>\n",
       "</div>"
      ],
      "text/plain": [
       "                   A         B\n",
       "2018-10-01 -0.311784  0.729004\n",
       "2018-10-02 -2.486781  0.913252\n",
       "2018-10-03  1.639291 -0.429894\n",
       "2018-10-04 -0.335882  1.237738\n",
       "2018-10-05  0.076128 -0.155128"
      ]
     },
     "execution_count": 98,
     "metadata": {},
     "output_type": "execute_result"
    }
   ],
   "source": [
    "#删除行也一样，设置axis=1\n",
    "df3.dropna(how = 'any',axis=1)"
   ]
  },
  {
   "cell_type": "code",
   "execution_count": 129,
   "metadata": {},
   "outputs": [
    {
     "data": {
      "text/html": [
       "<div>\n",
       "<style scoped>\n",
       "    .dataframe tbody tr th:only-of-type {\n",
       "        vertical-align: middle;\n",
       "    }\n",
       "\n",
       "    .dataframe tbody tr th {\n",
       "        vertical-align: top;\n",
       "    }\n",
       "\n",
       "    .dataframe thead th {\n",
       "        text-align: right;\n",
       "    }\n",
       "</style>\n",
       "<table border=\"1\" class=\"dataframe\">\n",
       "  <thead>\n",
       "    <tr style=\"text-align: right;\">\n",
       "      <th></th>\n",
       "      <th>A</th>\n",
       "      <th>B</th>\n",
       "      <th>C</th>\n",
       "      <th>D</th>\n",
       "    </tr>\n",
       "  </thead>\n",
       "  <tbody>\n",
       "    <tr>\n",
       "      <th>2018-10-01</th>\n",
       "      <td>-0.311784</td>\n",
       "      <td>0.729004</td>\n",
       "      <td>0.217821</td>\n",
       "      <td>-0.899092</td>\n",
       "    </tr>\n",
       "    <tr>\n",
       "      <th>2018-10-05</th>\n",
       "      <td>0.076128</td>\n",
       "      <td>-0.155128</td>\n",
       "      <td>0.634225</td>\n",
       "      <td>0.810655</td>\n",
       "    </tr>\n",
       "  </tbody>\n",
       "</table>\n",
       "</div>"
      ],
      "text/plain": [
       "                   A         B         C         D\n",
       "2018-10-01 -0.311784  0.729004  0.217821 -0.899092\n",
       "2018-10-05  0.076128 -0.155128  0.634225  0.810655"
      ]
     },
     "execution_count": 129,
     "metadata": {},
     "output_type": "execute_result"
    }
   ],
   "source": [
    "#thresh参数,如thresh=4,一行中至少有4个非NaN值，否则删除\n",
    "df3.iloc[2,2]=np.NaN\n",
    "df3.dropna(thresh=4)\n",
    "#thresh 是 threshold的簡寫"
   ]
  },
  {
   "cell_type": "markdown",
   "metadata": {},
   "source": [
    "### 填充缺失值  \n",
    "fillna 还可以使用 method 参数  \n",
    "method 可以使用下面的方法  \n",
    "1. pad/ffill：用前一个非缺失值去填充该缺失值  \n",
    "2. backfill/bfill：用下一个非缺失值填充该缺失值"
   ]
  },
  {
   "cell_type": "code",
   "execution_count": 125,
   "metadata": {},
   "outputs": [
    {
     "name": "stdout",
     "output_type": "stream",
     "text": [
      "                   A         B         C         D\n",
      "2018-10-01 -0.311784  0.729004  0.217821 -0.899092\n",
      "2018-10-02 -2.486781  0.913252       NaN -1.514093\n",
      "2018-10-03  1.639291 -0.429894       NaN  0.601822\n",
      "2018-10-04 -0.335882  1.237738  0.111128       NaN\n",
      "2018-10-05  0.076128 -0.155128  0.634225  0.810655\n"
     ]
    },
    {
     "data": {
      "text/html": [
       "<div>\n",
       "<style scoped>\n",
       "    .dataframe tbody tr th:only-of-type {\n",
       "        vertical-align: middle;\n",
       "    }\n",
       "\n",
       "    .dataframe tbody tr th {\n",
       "        vertical-align: top;\n",
       "    }\n",
       "\n",
       "    .dataframe thead th {\n",
       "        text-align: right;\n",
       "    }\n",
       "</style>\n",
       "<table border=\"1\" class=\"dataframe\">\n",
       "  <thead>\n",
       "    <tr style=\"text-align: right;\">\n",
       "      <th></th>\n",
       "      <th>A</th>\n",
       "      <th>B</th>\n",
       "      <th>C</th>\n",
       "      <th>D</th>\n",
       "    </tr>\n",
       "  </thead>\n",
       "  <tbody>\n",
       "    <tr>\n",
       "      <th>2018-10-01</th>\n",
       "      <td>-0.311784</td>\n",
       "      <td>0.729004</td>\n",
       "      <td>0.217821</td>\n",
       "      <td>-0.899092</td>\n",
       "    </tr>\n",
       "    <tr>\n",
       "      <th>2018-10-02</th>\n",
       "      <td>-2.486781</td>\n",
       "      <td>0.913252</td>\n",
       "      <td>0.217821</td>\n",
       "      <td>-1.514093</td>\n",
       "    </tr>\n",
       "    <tr>\n",
       "      <th>2018-10-03</th>\n",
       "      <td>1.639291</td>\n",
       "      <td>-0.429894</td>\n",
       "      <td>0.217821</td>\n",
       "      <td>0.601822</td>\n",
       "    </tr>\n",
       "    <tr>\n",
       "      <th>2018-10-04</th>\n",
       "      <td>-0.335882</td>\n",
       "      <td>1.237738</td>\n",
       "      <td>0.111128</td>\n",
       "      <td>0.601822</td>\n",
       "    </tr>\n",
       "    <tr>\n",
       "      <th>2018-10-05</th>\n",
       "      <td>0.076128</td>\n",
       "      <td>-0.155128</td>\n",
       "      <td>0.634225</td>\n",
       "      <td>0.810655</td>\n",
       "    </tr>\n",
       "  </tbody>\n",
       "</table>\n",
       "</div>"
      ],
      "text/plain": [
       "                   A         B         C         D\n",
       "2018-10-01 -0.311784  0.729004  0.217821 -0.899092\n",
       "2018-10-02 -2.486781  0.913252  0.217821 -1.514093\n",
       "2018-10-03  1.639291 -0.429894  0.217821  0.601822\n",
       "2018-10-04 -0.335882  1.237738  0.111128  0.601822\n",
       "2018-10-05  0.076128 -0.155128  0.634225  0.810655"
      ]
     },
     "execution_count": 125,
     "metadata": {},
     "output_type": "execute_result"
    }
   ],
   "source": [
    "print(df3)\n",
    "df3.fillna(method='ffill') # 用前個數值填"
   ]
  },
  {
   "cell_type": "code",
   "execution_count": 107,
   "metadata": {},
   "outputs": [
    {
     "data": {
      "text/html": [
       "<div>\n",
       "<style scoped>\n",
       "    .dataframe tbody tr th:only-of-type {\n",
       "        vertical-align: middle;\n",
       "    }\n",
       "\n",
       "    .dataframe tbody tr th {\n",
       "        vertical-align: top;\n",
       "    }\n",
       "\n",
       "    .dataframe thead th {\n",
       "        text-align: right;\n",
       "    }\n",
       "</style>\n",
       "<table border=\"1\" class=\"dataframe\">\n",
       "  <thead>\n",
       "    <tr style=\"text-align: right;\">\n",
       "      <th></th>\n",
       "      <th>A</th>\n",
       "      <th>B</th>\n",
       "      <th>C</th>\n",
       "      <th>D</th>\n",
       "    </tr>\n",
       "  </thead>\n",
       "  <tbody>\n",
       "    <tr>\n",
       "      <th>2018-10-01</th>\n",
       "      <td>-0.311784</td>\n",
       "      <td>0.729004</td>\n",
       "      <td>0.217821</td>\n",
       "      <td>-0.899092</td>\n",
       "    </tr>\n",
       "    <tr>\n",
       "      <th>2018-10-02</th>\n",
       "      <td>-2.486781</td>\n",
       "      <td>0.913252</td>\n",
       "      <td>0.111128</td>\n",
       "      <td>-1.514093</td>\n",
       "    </tr>\n",
       "    <tr>\n",
       "      <th>2018-10-03</th>\n",
       "      <td>1.639291</td>\n",
       "      <td>-0.429894</td>\n",
       "      <td>0.111128</td>\n",
       "      <td>0.601822</td>\n",
       "    </tr>\n",
       "    <tr>\n",
       "      <th>2018-10-04</th>\n",
       "      <td>-0.335882</td>\n",
       "      <td>1.237738</td>\n",
       "      <td>0.111128</td>\n",
       "      <td>0.810655</td>\n",
       "    </tr>\n",
       "    <tr>\n",
       "      <th>2018-10-05</th>\n",
       "      <td>0.076128</td>\n",
       "      <td>-0.155128</td>\n",
       "      <td>0.634225</td>\n",
       "      <td>0.810655</td>\n",
       "    </tr>\n",
       "  </tbody>\n",
       "</table>\n",
       "</div>"
      ],
      "text/plain": [
       "                   A         B         C         D\n",
       "2018-10-01 -0.311784  0.729004  0.217821 -0.899092\n",
       "2018-10-02 -2.486781  0.913252  0.111128 -1.514093\n",
       "2018-10-03  1.639291 -0.429894  0.111128  0.601822\n",
       "2018-10-04 -0.335882  1.237738  0.111128  0.810655\n",
       "2018-10-05  0.076128 -0.155128  0.634225  0.810655"
      ]
     },
     "execution_count": 107,
     "metadata": {},
     "output_type": "execute_result"
    }
   ],
   "source": [
    "df3.fillna(method='bfill') # 用後個數值填"
   ]
  },
  {
   "cell_type": "code",
   "execution_count": 132,
   "metadata": {},
   "outputs": [
    {
     "data": {
      "text/html": [
       "<div>\n",
       "<style scoped>\n",
       "    .dataframe tbody tr th:only-of-type {\n",
       "        vertical-align: middle;\n",
       "    }\n",
       "\n",
       "    .dataframe tbody tr th {\n",
       "        vertical-align: top;\n",
       "    }\n",
       "\n",
       "    .dataframe thead th {\n",
       "        text-align: right;\n",
       "    }\n",
       "</style>\n",
       "<table border=\"1\" class=\"dataframe\">\n",
       "  <thead>\n",
       "    <tr style=\"text-align: right;\">\n",
       "      <th></th>\n",
       "      <th>A</th>\n",
       "      <th>B</th>\n",
       "      <th>C</th>\n",
       "      <th>D</th>\n",
       "    </tr>\n",
       "  </thead>\n",
       "  <tbody>\n",
       "    <tr>\n",
       "      <th>2018-10-01</th>\n",
       "      <td>-0.311784</td>\n",
       "      <td>0.729004</td>\n",
       "      <td>0.217821</td>\n",
       "      <td>-0.899092</td>\n",
       "    </tr>\n",
       "    <tr>\n",
       "      <th>2018-10-02</th>\n",
       "      <td>-2.486781</td>\n",
       "      <td>0.913252</td>\n",
       "      <td>0.321058</td>\n",
       "      <td>-1.514093</td>\n",
       "    </tr>\n",
       "    <tr>\n",
       "      <th>2018-10-03</th>\n",
       "      <td>1.639291</td>\n",
       "      <td>-0.429894</td>\n",
       "      <td>0.321058</td>\n",
       "      <td>0.601822</td>\n",
       "    </tr>\n",
       "    <tr>\n",
       "      <th>2018-10-04</th>\n",
       "      <td>-0.335882</td>\n",
       "      <td>1.237738</td>\n",
       "      <td>0.111128</td>\n",
       "      <td>NaN</td>\n",
       "    </tr>\n",
       "    <tr>\n",
       "      <th>2018-10-05</th>\n",
       "      <td>0.076128</td>\n",
       "      <td>-0.155128</td>\n",
       "      <td>0.634225</td>\n",
       "      <td>0.810655</td>\n",
       "    </tr>\n",
       "  </tbody>\n",
       "</table>\n",
       "</div>"
      ],
      "text/plain": [
       "                   A         B         C         D\n",
       "2018-10-01 -0.311784  0.729004  0.217821 -0.899092\n",
       "2018-10-02 -2.486781  0.913252  0.321058 -1.514093\n",
       "2018-10-03  1.639291 -0.429894  0.321058  0.601822\n",
       "2018-10-04 -0.335882  1.237738  0.111128       NaN\n",
       "2018-10-05  0.076128 -0.155128  0.634225  0.810655"
      ]
     },
     "execution_count": 132,
     "metadata": {},
     "output_type": "execute_result"
    }
   ],
   "source": [
    "df3"
   ]
  },
  {
   "cell_type": "code",
   "execution_count": 131,
   "metadata": {},
   "outputs": [
    {
     "data": {
      "text/html": [
       "<div>\n",
       "<style scoped>\n",
       "    .dataframe tbody tr th:only-of-type {\n",
       "        vertical-align: middle;\n",
       "    }\n",
       "\n",
       "    .dataframe tbody tr th {\n",
       "        vertical-align: top;\n",
       "    }\n",
       "\n",
       "    .dataframe thead th {\n",
       "        text-align: right;\n",
       "    }\n",
       "</style>\n",
       "<table border=\"1\" class=\"dataframe\">\n",
       "  <thead>\n",
       "    <tr style=\"text-align: right;\">\n",
       "      <th></th>\n",
       "      <th>A</th>\n",
       "      <th>B</th>\n",
       "      <th>C</th>\n",
       "      <th>D</th>\n",
       "    </tr>\n",
       "  </thead>\n",
       "  <tbody>\n",
       "    <tr>\n",
       "      <th>2018-10-01</th>\n",
       "      <td>-0.311784</td>\n",
       "      <td>0.729004</td>\n",
       "      <td>0.217821</td>\n",
       "      <td>-0.899092</td>\n",
       "    </tr>\n",
       "    <tr>\n",
       "      <th>2018-10-02</th>\n",
       "      <td>-2.486781</td>\n",
       "      <td>0.913252</td>\n",
       "      <td>0.321058</td>\n",
       "      <td>-1.514093</td>\n",
       "    </tr>\n",
       "    <tr>\n",
       "      <th>2018-10-03</th>\n",
       "      <td>1.639291</td>\n",
       "      <td>-0.429894</td>\n",
       "      <td>0.321058</td>\n",
       "      <td>0.601822</td>\n",
       "    </tr>\n",
       "    <tr>\n",
       "      <th>2018-10-04</th>\n",
       "      <td>-0.335882</td>\n",
       "      <td>1.237738</td>\n",
       "      <td>0.111128</td>\n",
       "      <td>NaN</td>\n",
       "    </tr>\n",
       "    <tr>\n",
       "      <th>2018-10-05</th>\n",
       "      <td>0.076128</td>\n",
       "      <td>-0.155128</td>\n",
       "      <td>0.634225</td>\n",
       "      <td>0.810655</td>\n",
       "    </tr>\n",
       "  </tbody>\n",
       "</table>\n",
       "</div>"
      ],
      "text/plain": [
       "                   A         B         C         D\n",
       "2018-10-01 -0.311784  0.729004  0.217821 -0.899092\n",
       "2018-10-02 -2.486781  0.913252  0.321058 -1.514093\n",
       "2018-10-03  1.639291 -0.429894  0.321058  0.601822\n",
       "2018-10-04 -0.335882  1.237738  0.111128       NaN\n",
       "2018-10-05  0.076128 -0.155128  0.634225  0.810655"
      ]
     },
     "execution_count": 131,
     "metadata": {},
     "output_type": "execute_result"
    }
   ],
   "source": [
    "#使在改变DataFrame 和 Series 的操作时，会返回一个新的对象，\n",
    "#原对象不变，如果要改变原对象，可以添加参数 inplace = True用列均值填充\n",
    "#使用该列的均值填充\n",
    "df3['C'].fillna(df3['C'].mean(),inplace=True)\n",
    "df3"
   ]
  },
  {
   "cell_type": "markdown",
   "metadata": {},
   "source": [
    "補充，inplace = True就是直接替換原表\n",
    "，如果不想這樣寫只能換以下形式"
   ]
  },
  {
   "cell_type": "code",
   "execution_count": 133,
   "metadata": {},
   "outputs": [
    {
     "data": {
      "text/html": [
       "<div>\n",
       "<style scoped>\n",
       "    .dataframe tbody tr th:only-of-type {\n",
       "        vertical-align: middle;\n",
       "    }\n",
       "\n",
       "    .dataframe tbody tr th {\n",
       "        vertical-align: top;\n",
       "    }\n",
       "\n",
       "    .dataframe thead th {\n",
       "        text-align: right;\n",
       "    }\n",
       "</style>\n",
       "<table border=\"1\" class=\"dataframe\">\n",
       "  <thead>\n",
       "    <tr style=\"text-align: right;\">\n",
       "      <th></th>\n",
       "      <th>A</th>\n",
       "      <th>B</th>\n",
       "      <th>C</th>\n",
       "      <th>D</th>\n",
       "    </tr>\n",
       "  </thead>\n",
       "  <tbody>\n",
       "    <tr>\n",
       "      <th>2018-10-01</th>\n",
       "      <td>-0.311784</td>\n",
       "      <td>0.729004</td>\n",
       "      <td>0.217821</td>\n",
       "      <td>-0.899092</td>\n",
       "    </tr>\n",
       "    <tr>\n",
       "      <th>2018-10-02</th>\n",
       "      <td>-2.486781</td>\n",
       "      <td>0.913252</td>\n",
       "      <td>0.321058</td>\n",
       "      <td>-1.514093</td>\n",
       "    </tr>\n",
       "    <tr>\n",
       "      <th>2018-10-03</th>\n",
       "      <td>1.639291</td>\n",
       "      <td>-0.429894</td>\n",
       "      <td>0.321058</td>\n",
       "      <td>0.601822</td>\n",
       "    </tr>\n",
       "    <tr>\n",
       "      <th>2018-10-04</th>\n",
       "      <td>-0.335882</td>\n",
       "      <td>1.237738</td>\n",
       "      <td>0.111128</td>\n",
       "      <td>NaN</td>\n",
       "    </tr>\n",
       "    <tr>\n",
       "      <th>2018-10-05</th>\n",
       "      <td>0.076128</td>\n",
       "      <td>-0.155128</td>\n",
       "      <td>0.634225</td>\n",
       "      <td>0.810655</td>\n",
       "    </tr>\n",
       "  </tbody>\n",
       "</table>\n",
       "</div>"
      ],
      "text/plain": [
       "                   A         B         C         D\n",
       "2018-10-01 -0.311784  0.729004  0.217821 -0.899092\n",
       "2018-10-02 -2.486781  0.913252  0.321058 -1.514093\n",
       "2018-10-03  1.639291 -0.429894  0.321058  0.601822\n",
       "2018-10-04 -0.335882  1.237738  0.111128       NaN\n",
       "2018-10-05  0.076128 -0.155128  0.634225  0.810655"
      ]
     },
     "execution_count": 133,
     "metadata": {},
     "output_type": "execute_result"
    }
   ],
   "source": [
    "df3['C'] = df3['C'].fillna(df3['C'].mean())\n",
    "df3"
   ]
  },
  {
   "cell_type": "markdown",
   "metadata": {},
   "source": [
    "# 4.統計"
   ]
  },
  {
   "cell_type": "code",
   "execution_count": 155,
   "metadata": {},
   "outputs": [
    {
     "data": {
      "text/html": [
       "<div>\n",
       "<style scoped>\n",
       "    .dataframe tbody tr th:only-of-type {\n",
       "        vertical-align: middle;\n",
       "    }\n",
       "\n",
       "    .dataframe tbody tr th {\n",
       "        vertical-align: top;\n",
       "    }\n",
       "\n",
       "    .dataframe thead th {\n",
       "        text-align: right;\n",
       "    }\n",
       "</style>\n",
       "<table border=\"1\" class=\"dataframe\">\n",
       "  <thead>\n",
       "    <tr style=\"text-align: right;\">\n",
       "      <th></th>\n",
       "      <th>A</th>\n",
       "      <th>B</th>\n",
       "      <th>C</th>\n",
       "      <th>D</th>\n",
       "    </tr>\n",
       "  </thead>\n",
       "  <tbody>\n",
       "    <tr>\n",
       "      <th>2018-10-01</th>\n",
       "      <td>1.690526</td>\n",
       "      <td>-0.465937</td>\n",
       "      <td>0.032820</td>\n",
       "      <td>0.407516</td>\n",
       "    </tr>\n",
       "    <tr>\n",
       "      <th>2018-10-02</th>\n",
       "      <td>-0.788923</td>\n",
       "      <td>0.002066</td>\n",
       "      <td>-0.000890</td>\n",
       "      <td>-1.754724</td>\n",
       "    </tr>\n",
       "    <tr>\n",
       "      <th>2018-10-03</th>\n",
       "      <td>1.017658</td>\n",
       "      <td>0.600499</td>\n",
       "      <td>-0.625429</td>\n",
       "      <td>-0.171548</td>\n",
       "    </tr>\n",
       "    <tr>\n",
       "      <th>2018-10-04</th>\n",
       "      <td>0.505299</td>\n",
       "      <td>-0.261356</td>\n",
       "      <td>-0.242749</td>\n",
       "      <td>-1.453241</td>\n",
       "    </tr>\n",
       "    <tr>\n",
       "      <th>2018-10-05</th>\n",
       "      <td>0.554580</td>\n",
       "      <td>0.123881</td>\n",
       "      <td>0.274460</td>\n",
       "      <td>-1.526525</td>\n",
       "    </tr>\n",
       "  </tbody>\n",
       "</table>\n",
       "</div>"
      ],
      "text/plain": [
       "                   A         B         C         D\n",
       "2018-10-01  1.690526 -0.465937  0.032820  0.407516\n",
       "2018-10-02 -0.788923  0.002066 -0.000890 -1.754724\n",
       "2018-10-03  1.017658  0.600499 -0.625429 -0.171548\n",
       "2018-10-04  0.505299 -0.261356 -0.242749 -1.453241\n",
       "2018-10-05  0.554580  0.123881  0.274460 -1.526525"
      ]
     },
     "execution_count": 155,
     "metadata": {},
     "output_type": "execute_result"
    }
   ],
   "source": [
    "date4=pd.date_range('20181001',periods=5)\n",
    "np.random.seed(7)\n",
    "data4=np.random.randn(5,4)\n",
    "df4=pd.DataFrame(data4,index=date3,columns=list('ABCD'))\n",
    "df4"
   ]
  },
  {
   "cell_type": "markdown",
   "metadata": {},
   "source": [
    "描述性统计 df.describe()"
   ]
  },
  {
   "cell_type": "code",
   "execution_count": 135,
   "metadata": {},
   "outputs": [
    {
     "data": {
      "text/html": [
       "<div>\n",
       "<style scoped>\n",
       "    .dataframe tbody tr th:only-of-type {\n",
       "        vertical-align: middle;\n",
       "    }\n",
       "\n",
       "    .dataframe tbody tr th {\n",
       "        vertical-align: top;\n",
       "    }\n",
       "\n",
       "    .dataframe thead th {\n",
       "        text-align: right;\n",
       "    }\n",
       "</style>\n",
       "<table border=\"1\" class=\"dataframe\">\n",
       "  <thead>\n",
       "    <tr style=\"text-align: right;\">\n",
       "      <th></th>\n",
       "      <th>A</th>\n",
       "      <th>B</th>\n",
       "      <th>C</th>\n",
       "      <th>D</th>\n",
       "    </tr>\n",
       "  </thead>\n",
       "  <tbody>\n",
       "    <tr>\n",
       "      <th>count</th>\n",
       "      <td>5.000000</td>\n",
       "      <td>5.000000</td>\n",
       "      <td>5.000000</td>\n",
       "      <td>5.000000</td>\n",
       "    </tr>\n",
       "    <tr>\n",
       "      <th>mean</th>\n",
       "      <td>0.595828</td>\n",
       "      <td>-0.000170</td>\n",
       "      <td>-0.112358</td>\n",
       "      <td>-0.899704</td>\n",
       "    </tr>\n",
       "    <tr>\n",
       "      <th>std</th>\n",
       "      <td>0.908809</td>\n",
       "      <td>0.406618</td>\n",
       "      <td>0.340358</td>\n",
       "      <td>0.957784</td>\n",
       "    </tr>\n",
       "    <tr>\n",
       "      <th>min</th>\n",
       "      <td>-0.788923</td>\n",
       "      <td>-0.465937</td>\n",
       "      <td>-0.625429</td>\n",
       "      <td>-1.754724</td>\n",
       "    </tr>\n",
       "    <tr>\n",
       "      <th>25%</th>\n",
       "      <td>0.505299</td>\n",
       "      <td>-0.261356</td>\n",
       "      <td>-0.242749</td>\n",
       "      <td>-1.526525</td>\n",
       "    </tr>\n",
       "    <tr>\n",
       "      <th>50%</th>\n",
       "      <td>0.554580</td>\n",
       "      <td>0.002066</td>\n",
       "      <td>-0.000890</td>\n",
       "      <td>-1.453241</td>\n",
       "    </tr>\n",
       "    <tr>\n",
       "      <th>75%</th>\n",
       "      <td>1.017658</td>\n",
       "      <td>0.123881</td>\n",
       "      <td>0.032820</td>\n",
       "      <td>-0.171548</td>\n",
       "    </tr>\n",
       "    <tr>\n",
       "      <th>max</th>\n",
       "      <td>1.690526</td>\n",
       "      <td>0.600499</td>\n",
       "      <td>0.274460</td>\n",
       "      <td>0.407516</td>\n",
       "    </tr>\n",
       "  </tbody>\n",
       "</table>\n",
       "</div>"
      ],
      "text/plain": [
       "              A         B         C         D\n",
       "count  5.000000  5.000000  5.000000  5.000000\n",
       "mean   0.595828 -0.000170 -0.112358 -0.899704\n",
       "std    0.908809  0.406618  0.340358  0.957784\n",
       "min   -0.788923 -0.465937 -0.625429 -1.754724\n",
       "25%    0.505299 -0.261356 -0.242749 -1.526525\n",
       "50%    0.554580  0.002066 -0.000890 -1.453241\n",
       "75%    1.017658  0.123881  0.032820 -0.171548\n",
       "max    1.690526  0.600499  0.274460  0.407516"
      ]
     },
     "execution_count": 135,
     "metadata": {},
     "output_type": "execute_result"
    }
   ],
   "source": [
    "df4.describe()"
   ]
  },
  {
   "cell_type": "code",
   "execution_count": 138,
   "metadata": {},
   "outputs": [
    {
     "data": {
      "text/plain": [
       "A    0.595828\n",
       "B   -0.000170\n",
       "C   -0.112358\n",
       "D   -0.899704\n",
       "dtype: float64"
      ]
     },
     "execution_count": 138,
     "metadata": {},
     "output_type": "execute_result"
    }
   ],
   "source": [
    "df4.mean() #均值，默认按列axis=0\n"
   ]
  },
  {
   "cell_type": "code",
   "execution_count": 139,
   "metadata": {},
   "outputs": [
    {
     "data": {
      "text/plain": [
       "2018-10-01    0.416231\n",
       "2018-10-02   -0.635618\n",
       "2018-10-03    0.205295\n",
       "2018-10-04   -0.363012\n",
       "2018-10-05   -0.143401\n",
       "Freq: D, dtype: float64"
      ]
     },
     "execution_count": 139,
     "metadata": {},
     "output_type": "execute_result"
    }
   ],
   "source": [
    "df4.mean(axis=1)  #按行"
   ]
  },
  {
   "cell_type": "markdown",
   "metadata": {},
   "source": [
    "对数据使用函数df.apply()"
   ]
  },
  {
   "cell_type": "code",
   "execution_count": 153,
   "metadata": {},
   "outputs": [
    {
     "data": {
      "text/html": [
       "<div>\n",
       "<style scoped>\n",
       "    .dataframe tbody tr th:only-of-type {\n",
       "        vertical-align: middle;\n",
       "    }\n",
       "\n",
       "    .dataframe tbody tr th {\n",
       "        vertical-align: top;\n",
       "    }\n",
       "\n",
       "    .dataframe thead th {\n",
       "        text-align: right;\n",
       "    }\n",
       "</style>\n",
       "<table border=\"1\" class=\"dataframe\">\n",
       "  <thead>\n",
       "    <tr style=\"text-align: right;\">\n",
       "      <th></th>\n",
       "      <th>A</th>\n",
       "      <th>B</th>\n",
       "      <th>C</th>\n",
       "      <th>D</th>\n",
       "      <th>E</th>\n",
       "    </tr>\n",
       "  </thead>\n",
       "  <tbody>\n",
       "    <tr>\n",
       "      <th>2018-10-01</th>\n",
       "      <td>1.690526</td>\n",
       "      <td>-0.465937</td>\n",
       "      <td>0.032820</td>\n",
       "      <td>0.407516</td>\n",
       "      <td>a</td>\n",
       "    </tr>\n",
       "    <tr>\n",
       "      <th>2018-10-02</th>\n",
       "      <td>0.901603</td>\n",
       "      <td>-0.463872</td>\n",
       "      <td>0.031930</td>\n",
       "      <td>-1.347208</td>\n",
       "      <td>aa</td>\n",
       "    </tr>\n",
       "    <tr>\n",
       "      <th>2018-10-03</th>\n",
       "      <td>1.919261</td>\n",
       "      <td>0.136627</td>\n",
       "      <td>-0.593499</td>\n",
       "      <td>-1.518756</td>\n",
       "      <td>aaa</td>\n",
       "    </tr>\n",
       "    <tr>\n",
       "      <th>2018-10-04</th>\n",
       "      <td>2.424560</td>\n",
       "      <td>-0.124730</td>\n",
       "      <td>-0.836248</td>\n",
       "      <td>-2.971998</td>\n",
       "      <td>aaab</td>\n",
       "    </tr>\n",
       "    <tr>\n",
       "      <th>2018-10-05</th>\n",
       "      <td>2.979140</td>\n",
       "      <td>-0.000849</td>\n",
       "      <td>-0.561788</td>\n",
       "      <td>-4.498522</td>\n",
       "      <td>aaabb</td>\n",
       "    </tr>\n",
       "  </tbody>\n",
       "</table>\n",
       "</div>"
      ],
      "text/plain": [
       "                   A         B         C         D      E\n",
       "2018-10-01  1.690526 -0.465937  0.032820  0.407516      a\n",
       "2018-10-02  0.901603 -0.463872  0.031930 -1.347208     aa\n",
       "2018-10-03  1.919261  0.136627 -0.593499 -1.518756    aaa\n",
       "2018-10-04  2.424560 -0.124730 -0.836248 -2.971998   aaab\n",
       "2018-10-05  2.979140 -0.000849 -0.561788 -4.498522  aaabb"
      ]
     },
     "execution_count": 153,
     "metadata": {},
     "output_type": "execute_result"
    }
   ],
   "source": [
    "df4.apply(np.cumsum,axis=0) #np.cumsum()累加函数"
   ]
  },
  {
   "cell_type": "code",
   "execution_count": 156,
   "metadata": {},
   "outputs": [
    {
     "data": {
      "text/plain": [
       "A    2.479449\n",
       "B    1.066436\n",
       "C    0.899889\n",
       "D    2.162241\n",
       "dtype: float64"
      ]
     },
     "execution_count": 156,
     "metadata": {},
     "output_type": "execute_result"
    }
   ],
   "source": [
    "df4.apply(lambda x:x.max()-x.min()) #lambda自定义函数\n",
    "#相当于计算每列里最大值-最小值"
   ]
  },
  {
   "cell_type": "code",
   "execution_count": 160,
   "metadata": {},
   "outputs": [
    {
     "data": {
      "text/plain": [
       "A    2.479449\n",
       "B    1.066436\n",
       "C    0.899889\n",
       "D    2.162241\n",
       "dtype: float64"
      ]
     },
     "execution_count": 160,
     "metadata": {},
     "output_type": "execute_result"
    }
   ],
   "source": [
    "# 補充下，上面也能用以下手法達成\n",
    "def range_func(x):\n",
    "    return x.max()-x.min()\n",
    "    \n",
    "df4.apply(range_func)  \n",
    "\n",
    "#lambda就是有點縮寫的感覺  "
   ]
  },
  {
   "cell_type": "code",
   "execution_count": 148,
   "metadata": {},
   "outputs": [
    {
     "data": {
      "text/html": [
       "<div>\n",
       "<style scoped>\n",
       "    .dataframe tbody tr th:only-of-type {\n",
       "        vertical-align: middle;\n",
       "    }\n",
       "\n",
       "    .dataframe tbody tr th {\n",
       "        vertical-align: top;\n",
       "    }\n",
       "\n",
       "    .dataframe thead th {\n",
       "        text-align: right;\n",
       "    }\n",
       "</style>\n",
       "<table border=\"1\" class=\"dataframe\">\n",
       "  <thead>\n",
       "    <tr style=\"text-align: right;\">\n",
       "      <th></th>\n",
       "      <th>A</th>\n",
       "      <th>B</th>\n",
       "      <th>C</th>\n",
       "      <th>D</th>\n",
       "      <th>E</th>\n",
       "    </tr>\n",
       "  </thead>\n",
       "  <tbody>\n",
       "    <tr>\n",
       "      <th>2018-10-01</th>\n",
       "      <td>1.690526</td>\n",
       "      <td>-0.465937</td>\n",
       "      <td>0.032820</td>\n",
       "      <td>0.407516</td>\n",
       "      <td>a</td>\n",
       "    </tr>\n",
       "    <tr>\n",
       "      <th>2018-10-02</th>\n",
       "      <td>-0.788923</td>\n",
       "      <td>0.002066</td>\n",
       "      <td>-0.000890</td>\n",
       "      <td>-1.754724</td>\n",
       "      <td>a</td>\n",
       "    </tr>\n",
       "    <tr>\n",
       "      <th>2018-10-03</th>\n",
       "      <td>1.017658</td>\n",
       "      <td>0.600499</td>\n",
       "      <td>-0.625429</td>\n",
       "      <td>-0.171548</td>\n",
       "      <td>a</td>\n",
       "    </tr>\n",
       "    <tr>\n",
       "      <th>2018-10-04</th>\n",
       "      <td>0.505299</td>\n",
       "      <td>-0.261356</td>\n",
       "      <td>-0.242749</td>\n",
       "      <td>-1.453241</td>\n",
       "      <td>b</td>\n",
       "    </tr>\n",
       "    <tr>\n",
       "      <th>2018-10-05</th>\n",
       "      <td>0.554580</td>\n",
       "      <td>0.123881</td>\n",
       "      <td>0.274460</td>\n",
       "      <td>-1.526525</td>\n",
       "      <td>b</td>\n",
       "    </tr>\n",
       "  </tbody>\n",
       "</table>\n",
       "</div>"
      ],
      "text/plain": [
       "                   A         B         C         D  E\n",
       "2018-10-01  1.690526 -0.465937  0.032820  0.407516  a\n",
       "2018-10-02 -0.788923  0.002066 -0.000890 -1.754724  a\n",
       "2018-10-03  1.017658  0.600499 -0.625429 -0.171548  a\n",
       "2018-10-04  0.505299 -0.261356 -0.242749 -1.453241  b\n",
       "2018-10-05  0.554580  0.123881  0.274460 -1.526525  b"
      ]
     },
     "execution_count": 148,
     "metadata": {},
     "output_type": "execute_result"
    }
   ],
   "source": [
    "df4['E']=['a','a','a','b','b']\n",
    "df4"
   ]
  },
  {
   "cell_type": "code",
   "execution_count": 149,
   "metadata": {},
   "outputs": [
    {
     "data": {
      "text/plain": [
       "E\n",
       "a    3\n",
       "b    2\n",
       "Name: count, dtype: int64"
      ]
     },
     "execution_count": 149,
     "metadata": {},
     "output_type": "execute_result"
    }
   ],
   "source": [
    "#计算某个值出现评率\n",
    "df4['E'].value_counts()"
   ]
  },
  {
   "cell_type": "markdown",
   "metadata": {},
   "source": [
    "# 5.數據合併"
   ]
  },
  {
   "cell_type": "code",
   "execution_count": 166,
   "metadata": {},
   "outputs": [
    {
     "name": "stdout",
     "output_type": "stream",
     "text": [
      "0    0\n",
      "1    1\n",
      "2    2\n",
      "3    3\n",
      "4    4\n",
      "dtype: int64\n",
      "0    5\n",
      "1    6\n",
      "2    7\n",
      "3    8\n",
      "4    9\n",
      "dtype: int64\n"
     ]
    },
    {
     "data": {
      "text/html": [
       "<div>\n",
       "<style scoped>\n",
       "    .dataframe tbody tr th:only-of-type {\n",
       "        vertical-align: middle;\n",
       "    }\n",
       "\n",
       "    .dataframe tbody tr th {\n",
       "        vertical-align: top;\n",
       "    }\n",
       "\n",
       "    .dataframe thead th {\n",
       "        text-align: right;\n",
       "    }\n",
       "</style>\n",
       "<table border=\"1\" class=\"dataframe\">\n",
       "  <thead>\n",
       "    <tr style=\"text-align: right;\">\n",
       "      <th></th>\n",
       "      <th>0</th>\n",
       "      <th>1</th>\n",
       "    </tr>\n",
       "  </thead>\n",
       "  <tbody>\n",
       "    <tr>\n",
       "      <th>0</th>\n",
       "      <td>0</td>\n",
       "      <td>5</td>\n",
       "    </tr>\n",
       "    <tr>\n",
       "      <th>1</th>\n",
       "      <td>1</td>\n",
       "      <td>6</td>\n",
       "    </tr>\n",
       "    <tr>\n",
       "      <th>2</th>\n",
       "      <td>2</td>\n",
       "      <td>7</td>\n",
       "    </tr>\n",
       "    <tr>\n",
       "      <th>3</th>\n",
       "      <td>3</td>\n",
       "      <td>8</td>\n",
       "    </tr>\n",
       "    <tr>\n",
       "      <th>4</th>\n",
       "      <td>4</td>\n",
       "      <td>9</td>\n",
       "    </tr>\n",
       "  </tbody>\n",
       "</table>\n",
       "</div>"
      ],
      "text/plain": [
       "   0  1\n",
       "0  0  5\n",
       "1  1  6\n",
       "2  2  7\n",
       "3  3  8\n",
       "4  4  9"
      ]
     },
     "execution_count": 166,
     "metadata": {},
     "output_type": "execute_result"
    }
   ],
   "source": [
    "#Concat（）\n",
    "d1=pd.Series(range(5))\n",
    "print(d1)\n",
    "d2=pd.Series(range(5,10))\n",
    "print(d2)\n",
    "\n",
    "pd.concat([d1,d2],axis=1)"
   ]
  },
  {
   "cell_type": "code",
   "execution_count": 177,
   "metadata": {},
   "outputs": [
    {
     "name": "stdout",
     "output_type": "stream",
     "text": [
      "          A         B         C\n",
      "0  1.624345 -0.611756 -0.528172\n",
      "1 -1.072969  0.865408 -2.301539\n",
      "2  1.744812 -0.761207  0.319039\n",
      "          D         E         F\n",
      "0 -0.249370  1.462108 -2.060141\n",
      "1 -0.322417 -0.384054  1.133769\n",
      "2 -1.099891 -0.172428 -0.877858\n"
     ]
    },
    {
     "data": {
      "text/html": [
       "<div>\n",
       "<style scoped>\n",
       "    .dataframe tbody tr th:only-of-type {\n",
       "        vertical-align: middle;\n",
       "    }\n",
       "\n",
       "    .dataframe tbody tr th {\n",
       "        vertical-align: top;\n",
       "    }\n",
       "\n",
       "    .dataframe thead th {\n",
       "        text-align: right;\n",
       "    }\n",
       "</style>\n",
       "<table border=\"1\" class=\"dataframe\">\n",
       "  <thead>\n",
       "    <tr style=\"text-align: right;\">\n",
       "      <th></th>\n",
       "      <th>A</th>\n",
       "      <th>B</th>\n",
       "      <th>C</th>\n",
       "      <th>D</th>\n",
       "      <th>E</th>\n",
       "      <th>F</th>\n",
       "    </tr>\n",
       "  </thead>\n",
       "  <tbody>\n",
       "    <tr>\n",
       "      <th>0</th>\n",
       "      <td>1.624345</td>\n",
       "      <td>-0.611756</td>\n",
       "      <td>-0.528172</td>\n",
       "      <td>-0.249370</td>\n",
       "      <td>1.462108</td>\n",
       "      <td>-2.060141</td>\n",
       "    </tr>\n",
       "    <tr>\n",
       "      <th>1</th>\n",
       "      <td>-1.072969</td>\n",
       "      <td>0.865408</td>\n",
       "      <td>-2.301539</td>\n",
       "      <td>-0.322417</td>\n",
       "      <td>-0.384054</td>\n",
       "      <td>1.133769</td>\n",
       "    </tr>\n",
       "    <tr>\n",
       "      <th>2</th>\n",
       "      <td>1.744812</td>\n",
       "      <td>-0.761207</td>\n",
       "      <td>0.319039</td>\n",
       "      <td>-1.099891</td>\n",
       "      <td>-0.172428</td>\n",
       "      <td>-0.877858</td>\n",
       "    </tr>\n",
       "  </tbody>\n",
       "</table>\n",
       "</div>"
      ],
      "text/plain": [
       "          A         B         C         D         E         F\n",
       "0  1.624345 -0.611756 -0.528172 -0.249370  1.462108 -2.060141\n",
       "1 -1.072969  0.865408 -2.301539 -0.322417 -0.384054  1.133769\n",
       "2  1.744812 -0.761207  0.319039 -1.099891 -0.172428 -0.877858"
      ]
     },
     "execution_count": 177,
     "metadata": {},
     "output_type": "execute_result"
    }
   ],
   "source": [
    "#pd.merge(left_on=None, right_on=None, left_index=False, \n",
    "#right_index=False)\n",
    "np.random.seed(1)\n",
    "d1=pd.DataFrame(np.random.randn(3,3),columns=list('ABC'))\n",
    "print(d1)\n",
    "d2=pd.DataFrame(np.random.randn(3,3),columns=list('DEF'))\n",
    "print(d2)\n",
    "pd.merge(d1,d2,left_index=True, right_index=True)\n",
    "#本題因為沒有相同的column，所以只能用Index合併，切忌兩邊都要開，不能只開一半"
   ]
  },
  {
   "cell_type": "code",
   "execution_count": 184,
   "metadata": {},
   "outputs": [
    {
     "data": {
      "text/html": [
       "<div>\n",
       "<style scoped>\n",
       "    .dataframe tbody tr th:only-of-type {\n",
       "        vertical-align: middle;\n",
       "    }\n",
       "\n",
       "    .dataframe tbody tr th {\n",
       "        vertical-align: top;\n",
       "    }\n",
       "\n",
       "    .dataframe thead th {\n",
       "        text-align: right;\n",
       "    }\n",
       "</style>\n",
       "<table border=\"1\" class=\"dataframe\">\n",
       "  <thead>\n",
       "    <tr style=\"text-align: right;\">\n",
       "      <th></th>\n",
       "      <th>A</th>\n",
       "      <th>B</th>\n",
       "      <th>C</th>\n",
       "    </tr>\n",
       "  </thead>\n",
       "  <tbody>\n",
       "    <tr>\n",
       "      <th>0</th>\n",
       "      <td>-0.298093</td>\n",
       "      <td>0.488518</td>\n",
       "      <td>-0.075572</td>\n",
       "    </tr>\n",
       "    <tr>\n",
       "      <th>1</th>\n",
       "      <td>1.131629</td>\n",
       "      <td>1.519817</td>\n",
       "      <td>2.185575</td>\n",
       "    </tr>\n",
       "    <tr>\n",
       "      <th>2</th>\n",
       "      <td>-1.396496</td>\n",
       "      <td>-1.444114</td>\n",
       "      <td>-0.504466</td>\n",
       "    </tr>\n",
       "  </tbody>\n",
       "</table>\n",
       "</div>"
      ],
      "text/plain": [
       "          A         B         C\n",
       "0 -0.298093  0.488518 -0.075572\n",
       "1  1.131629  1.519817  2.185575\n",
       "2 -1.396496 -1.444114 -0.504466"
      ]
     },
     "execution_count": 184,
     "metadata": {},
     "output_type": "execute_result"
    }
   ],
   "source": [
    "#增加數據演示\n",
    "df = pd.DataFrame(np.random.randn(3, 3), columns=['A','B','C'])\n",
    "df\n"
   ]
  },
  {
   "cell_type": "code",
   "execution_count": 186,
   "metadata": {},
   "outputs": [
    {
     "data": {
      "text/html": [
       "<div>\n",
       "<style scoped>\n",
       "    .dataframe tbody tr th:only-of-type {\n",
       "        vertical-align: middle;\n",
       "    }\n",
       "\n",
       "    .dataframe tbody tr th {\n",
       "        vertical-align: top;\n",
       "    }\n",
       "\n",
       "    .dataframe thead th {\n",
       "        text-align: right;\n",
       "    }\n",
       "</style>\n",
       "<table border=\"1\" class=\"dataframe\">\n",
       "  <thead>\n",
       "    <tr style=\"text-align: right;\">\n",
       "      <th></th>\n",
       "      <th>A</th>\n",
       "      <th>B</th>\n",
       "      <th>C</th>\n",
       "    </tr>\n",
       "  </thead>\n",
       "  <tbody>\n",
       "    <tr>\n",
       "      <th>0</th>\n",
       "      <td>-0.298093</td>\n",
       "      <td>0.488518</td>\n",
       "      <td>-0.075572</td>\n",
       "    </tr>\n",
       "    <tr>\n",
       "      <th>1</th>\n",
       "      <td>1.131629</td>\n",
       "      <td>1.519817</td>\n",
       "      <td>2.185575</td>\n",
       "    </tr>\n",
       "    <tr>\n",
       "      <th>2</th>\n",
       "      <td>-1.396496</td>\n",
       "      <td>-1.444114</td>\n",
       "      <td>-0.504466</td>\n",
       "    </tr>\n",
       "    <tr>\n",
       "      <th>3</th>\n",
       "      <td>1.000000</td>\n",
       "      <td>1.000000</td>\n",
       "      <td>1.000000</td>\n",
       "    </tr>\n",
       "    <tr>\n",
       "      <th>4</th>\n",
       "      <td>1.000000</td>\n",
       "      <td>1.000000</td>\n",
       "      <td>1.000000</td>\n",
       "    </tr>\n",
       "  </tbody>\n",
       "</table>\n",
       "</div>"
      ],
      "text/plain": [
       "          A         B         C\n",
       "0 -0.298093  0.488518 -0.075572\n",
       "1  1.131629  1.519817  2.185575\n",
       "2 -1.396496 -1.444114 -0.504466\n",
       "3  1.000000  1.000000  1.000000\n",
       "4  1.000000  1.000000  1.000000"
      ]
     },
     "execution_count": 186,
     "metadata": {},
     "output_type": "execute_result"
    }
   ],
   "source": [
    "s=pd.Series([1.,1,1],index=list('ABC'))\n",
    "df = pd.concat([df, s.to_frame().T], ignore_index=True)\n",
    "df\n",
    "#s.to_frame()：把 Series 轉成 DataFrame\n",
    "#.T：轉置，讓 Series 變成 一列資料"
   ]
  },
  {
   "cell_type": "markdown",
   "metadata": {},
   "source": [
    "### 聚类分析 groupby"
   ]
  },
  {
   "cell_type": "code",
   "execution_count": 193,
   "metadata": {},
   "outputs": [
    {
     "data": {
      "text/html": [
       "<div>\n",
       "<style scoped>\n",
       "    .dataframe tbody tr th:only-of-type {\n",
       "        vertical-align: middle;\n",
       "    }\n",
       "\n",
       "    .dataframe tbody tr th {\n",
       "        vertical-align: top;\n",
       "    }\n",
       "\n",
       "    .dataframe thead th {\n",
       "        text-align: right;\n",
       "    }\n",
       "</style>\n",
       "<table border=\"1\" class=\"dataframe\">\n",
       "  <thead>\n",
       "    <tr style=\"text-align: right;\">\n",
       "      <th></th>\n",
       "      <th>A</th>\n",
       "      <th>B</th>\n",
       "      <th>C</th>\n",
       "      <th>D</th>\n",
       "    </tr>\n",
       "  </thead>\n",
       "  <tbody>\n",
       "    <tr>\n",
       "      <th>0</th>\n",
       "      <td>true</td>\n",
       "      <td>one</td>\n",
       "      <td>-0.416758</td>\n",
       "      <td>-1.057952</td>\n",
       "    </tr>\n",
       "    <tr>\n",
       "      <th>1</th>\n",
       "      <td>false</td>\n",
       "      <td>one</td>\n",
       "      <td>-0.056267</td>\n",
       "      <td>-0.909008</td>\n",
       "    </tr>\n",
       "    <tr>\n",
       "      <th>2</th>\n",
       "      <td>true</td>\n",
       "      <td>two</td>\n",
       "      <td>-2.136196</td>\n",
       "      <td>0.551454</td>\n",
       "    </tr>\n",
       "    <tr>\n",
       "      <th>3</th>\n",
       "      <td>false</td>\n",
       "      <td>three</td>\n",
       "      <td>1.640271</td>\n",
       "      <td>2.292208</td>\n",
       "    </tr>\n",
       "    <tr>\n",
       "      <th>4</th>\n",
       "      <td>true</td>\n",
       "      <td>two</td>\n",
       "      <td>-1.793436</td>\n",
       "      <td>0.041539</td>\n",
       "    </tr>\n",
       "    <tr>\n",
       "      <th>5</th>\n",
       "      <td>false</td>\n",
       "      <td>two</td>\n",
       "      <td>-0.841747</td>\n",
       "      <td>-1.117925</td>\n",
       "    </tr>\n",
       "    <tr>\n",
       "      <th>6</th>\n",
       "      <td>true</td>\n",
       "      <td>one</td>\n",
       "      <td>0.502881</td>\n",
       "      <td>0.539058</td>\n",
       "    </tr>\n",
       "    <tr>\n",
       "      <th>7</th>\n",
       "      <td>false</td>\n",
       "      <td>three</td>\n",
       "      <td>-1.245288</td>\n",
       "      <td>-0.596160</td>\n",
       "    </tr>\n",
       "  </tbody>\n",
       "</table>\n",
       "</div>"
      ],
      "text/plain": [
       "       A      B         C         D\n",
       "0   true    one -0.416758 -1.057952\n",
       "1  false    one -0.056267 -0.909008\n",
       "2   true    two -2.136196  0.551454\n",
       "3  false  three  1.640271  2.292208\n",
       "4   true    two -1.793436  0.041539\n",
       "5  false    two -0.841747 -1.117925\n",
       "6   true    one  0.502881  0.539058\n",
       "7  false  three -1.245288 -0.596160"
      ]
     },
     "execution_count": 193,
     "metadata": {},
     "output_type": "execute_result"
    }
   ],
   "source": [
    "np.random.seed(2)\n",
    "df = pd.DataFrame({'A' : ['true', 'false', 'true', 'false','true', 'false', 'true', 'false'],\n",
    "                   'B' : ['one', 'one', 'two', 'three','two', 'two', 'one', 'three'],\n",
    "                   'C' : np.random.randn(8),\n",
    "                   'D' : np.random.randn(8)})\n",
    "df"
   ]
  },
  {
   "cell_type": "code",
   "execution_count": 194,
   "metadata": {},
   "outputs": [
    {
     "data": {
      "text/html": [
       "<div>\n",
       "<style scoped>\n",
       "    .dataframe tbody tr th:only-of-type {\n",
       "        vertical-align: middle;\n",
       "    }\n",
       "\n",
       "    .dataframe tbody tr th {\n",
       "        vertical-align: top;\n",
       "    }\n",
       "\n",
       "    .dataframe thead th {\n",
       "        text-align: right;\n",
       "    }\n",
       "</style>\n",
       "<table border=\"1\" class=\"dataframe\">\n",
       "  <thead>\n",
       "    <tr style=\"text-align: right;\">\n",
       "      <th></th>\n",
       "      <th>B</th>\n",
       "      <th>C</th>\n",
       "      <th>D</th>\n",
       "    </tr>\n",
       "    <tr>\n",
       "      <th>A</th>\n",
       "      <th></th>\n",
       "      <th></th>\n",
       "      <th></th>\n",
       "    </tr>\n",
       "  </thead>\n",
       "  <tbody>\n",
       "    <tr>\n",
       "      <th>false</th>\n",
       "      <td>onethreetwothree</td>\n",
       "      <td>-0.503031</td>\n",
       "      <td>-0.330885</td>\n",
       "    </tr>\n",
       "    <tr>\n",
       "      <th>true</th>\n",
       "      <td>onetwotwoone</td>\n",
       "      <td>-3.843508</td>\n",
       "      <td>0.074100</td>\n",
       "    </tr>\n",
       "  </tbody>\n",
       "</table>\n",
       "</div>"
      ],
      "text/plain": [
       "                      B         C         D\n",
       "A                                          \n",
       "false  onethreetwothree -0.503031 -0.330885\n",
       "true       onetwotwoone -3.843508  0.074100"
      ]
     },
     "execution_count": 194,
     "metadata": {},
     "output_type": "execute_result"
    }
   ],
   "source": [
    "df.groupby(['A']).sum()  #以A列特征分类并加总"
   ]
  },
  {
   "cell_type": "code",
   "execution_count": 195,
   "metadata": {},
   "outputs": [
    {
     "data": {
      "text/html": [
       "<div>\n",
       "<style scoped>\n",
       "    .dataframe tbody tr th:only-of-type {\n",
       "        vertical-align: middle;\n",
       "    }\n",
       "\n",
       "    .dataframe tbody tr th {\n",
       "        vertical-align: top;\n",
       "    }\n",
       "\n",
       "    .dataframe thead th {\n",
       "        text-align: right;\n",
       "    }\n",
       "</style>\n",
       "<table border=\"1\" class=\"dataframe\">\n",
       "  <thead>\n",
       "    <tr style=\"text-align: right;\">\n",
       "      <th></th>\n",
       "      <th></th>\n",
       "      <th>C</th>\n",
       "      <th>D</th>\n",
       "    </tr>\n",
       "    <tr>\n",
       "      <th>A</th>\n",
       "      <th>B</th>\n",
       "      <th></th>\n",
       "      <th></th>\n",
       "    </tr>\n",
       "  </thead>\n",
       "  <tbody>\n",
       "    <tr>\n",
       "      <th rowspan=\"3\" valign=\"top\">false</th>\n",
       "      <th>one</th>\n",
       "      <td>-0.056267</td>\n",
       "      <td>-0.909008</td>\n",
       "    </tr>\n",
       "    <tr>\n",
       "      <th>three</th>\n",
       "      <td>0.394983</td>\n",
       "      <td>1.696048</td>\n",
       "    </tr>\n",
       "    <tr>\n",
       "      <th>two</th>\n",
       "      <td>-0.841747</td>\n",
       "      <td>-1.117925</td>\n",
       "    </tr>\n",
       "    <tr>\n",
       "      <th rowspan=\"2\" valign=\"top\">true</th>\n",
       "      <th>one</th>\n",
       "      <td>0.086124</td>\n",
       "      <td>-0.518894</td>\n",
       "    </tr>\n",
       "    <tr>\n",
       "      <th>two</th>\n",
       "      <td>-3.929632</td>\n",
       "      <td>0.592993</td>\n",
       "    </tr>\n",
       "  </tbody>\n",
       "</table>\n",
       "</div>"
      ],
      "text/plain": [
       "                    C         D\n",
       "A     B                        \n",
       "false one   -0.056267 -0.909008\n",
       "      three  0.394983  1.696048\n",
       "      two   -0.841747 -1.117925\n",
       "true  one    0.086124 -0.518894\n",
       "      two   -3.929632  0.592993"
      ]
     },
     "execution_count": 195,
     "metadata": {},
     "output_type": "execute_result"
    }
   ],
   "source": [
    "df.groupby(['A','B']).sum()"
   ]
  },
  {
   "cell_type": "markdown",
   "metadata": {},
   "source": [
    "### 數據透視表"
   ]
  },
  {
   "cell_type": "code",
   "execution_count": 196,
   "metadata": {},
   "outputs": [
    {
     "data": {
      "text/html": [
       "<div>\n",
       "<style scoped>\n",
       "    .dataframe tbody tr th:only-of-type {\n",
       "        vertical-align: middle;\n",
       "    }\n",
       "\n",
       "    .dataframe tbody tr th {\n",
       "        vertical-align: top;\n",
       "    }\n",
       "\n",
       "    .dataframe thead th {\n",
       "        text-align: right;\n",
       "    }\n",
       "</style>\n",
       "<table border=\"1\" class=\"dataframe\">\n",
       "  <thead>\n",
       "    <tr style=\"text-align: right;\">\n",
       "      <th></th>\n",
       "      <th>A</th>\n",
       "      <th>B</th>\n",
       "      <th>C</th>\n",
       "      <th>D</th>\n",
       "      <th>E</th>\n",
       "    </tr>\n",
       "  </thead>\n",
       "  <tbody>\n",
       "    <tr>\n",
       "      <th>0</th>\n",
       "      <td>one</td>\n",
       "      <td>A</td>\n",
       "      <td>foo</td>\n",
       "      <td>-0.019130</td>\n",
       "      <td>-1.421217</td>\n",
       "    </tr>\n",
       "    <tr>\n",
       "      <th>1</th>\n",
       "      <td>one</td>\n",
       "      <td>B</td>\n",
       "      <td>foo</td>\n",
       "      <td>1.175001</td>\n",
       "      <td>-0.153495</td>\n",
       "    </tr>\n",
       "    <tr>\n",
       "      <th>2</th>\n",
       "      <td>two</td>\n",
       "      <td>C</td>\n",
       "      <td>foo</td>\n",
       "      <td>-0.747871</td>\n",
       "      <td>-0.269057</td>\n",
       "    </tr>\n",
       "    <tr>\n",
       "      <th>3</th>\n",
       "      <td>three</td>\n",
       "      <td>A</td>\n",
       "      <td>bar</td>\n",
       "      <td>0.009025</td>\n",
       "      <td>2.231367</td>\n",
       "    </tr>\n",
       "    <tr>\n",
       "      <th>4</th>\n",
       "      <td>one</td>\n",
       "      <td>B</td>\n",
       "      <td>bar</td>\n",
       "      <td>-0.878108</td>\n",
       "      <td>-2.434768</td>\n",
       "    </tr>\n",
       "    <tr>\n",
       "      <th>5</th>\n",
       "      <td>one</td>\n",
       "      <td>C</td>\n",
       "      <td>bar</td>\n",
       "      <td>-0.156434</td>\n",
       "      <td>0.112727</td>\n",
       "    </tr>\n",
       "    <tr>\n",
       "      <th>6</th>\n",
       "      <td>two</td>\n",
       "      <td>A</td>\n",
       "      <td>foo</td>\n",
       "      <td>0.256570</td>\n",
       "      <td>0.370445</td>\n",
       "    </tr>\n",
       "    <tr>\n",
       "      <th>7</th>\n",
       "      <td>three</td>\n",
       "      <td>B</td>\n",
       "      <td>foo</td>\n",
       "      <td>-0.988779</td>\n",
       "      <td>1.359634</td>\n",
       "    </tr>\n",
       "    <tr>\n",
       "      <th>8</th>\n",
       "      <td>one</td>\n",
       "      <td>C</td>\n",
       "      <td>foo</td>\n",
       "      <td>-0.338822</td>\n",
       "      <td>0.501857</td>\n",
       "    </tr>\n",
       "    <tr>\n",
       "      <th>9</th>\n",
       "      <td>one</td>\n",
       "      <td>A</td>\n",
       "      <td>bar</td>\n",
       "      <td>-0.236184</td>\n",
       "      <td>-0.844214</td>\n",
       "    </tr>\n",
       "    <tr>\n",
       "      <th>10</th>\n",
       "      <td>two</td>\n",
       "      <td>B</td>\n",
       "      <td>bar</td>\n",
       "      <td>-0.637655</td>\n",
       "      <td>0.000010</td>\n",
       "    </tr>\n",
       "    <tr>\n",
       "      <th>11</th>\n",
       "      <td>three</td>\n",
       "      <td>C</td>\n",
       "      <td>bar</td>\n",
       "      <td>-1.187612</td>\n",
       "      <td>0.542353</td>\n",
       "    </tr>\n",
       "  </tbody>\n",
       "</table>\n",
       "</div>"
      ],
      "text/plain": [
       "        A  B    C         D         E\n",
       "0     one  A  foo -0.019130 -1.421217\n",
       "1     one  B  foo  1.175001 -0.153495\n",
       "2     two  C  foo -0.747871 -0.269057\n",
       "3   three  A  bar  0.009025  2.231367\n",
       "4     one  B  bar -0.878108 -2.434768\n",
       "5     one  C  bar -0.156434  0.112727\n",
       "6     two  A  foo  0.256570  0.370445\n",
       "7   three  B  foo -0.988779  1.359634\n",
       "8     one  C  foo -0.338822  0.501857\n",
       "9     one  A  bar -0.236184 -0.844214\n",
       "10    two  B  bar -0.637655  0.000010\n",
       "11  three  C  bar -1.187612  0.542353"
      ]
     },
     "execution_count": 196,
     "metadata": {},
     "output_type": "execute_result"
    }
   ],
   "source": [
    "df = pd.DataFrame({'A' : ['one', 'one', 'two', 'three'] * 3,\n",
    "                   'B' : ['A', 'B', 'C'] * 4,\n",
    "                   'C' : ['foo', 'foo', 'foo', 'bar', 'bar', 'bar'] * 2,\n",
    "                   'D' : np.random.randn(12),\n",
    "                   'E' : np.random.randn(12)})\n",
    "df"
   ]
  },
  {
   "cell_type": "markdown",
   "metadata": {},
   "source": [
    "以下指令功能為:\n",
    "1. 將 DataFrame 轉換為「樞紐表」格式（Pivot Table）。\n",
    "2. 根據 A 和 B 作為索引 (index=['A', 'B'])。\n",
    "3. 根據 C 作為欄位 (columns=['C'])。\n",
    "4. D 作為數值 (values='D')，預設計算平均值 (aggfunc='mean')。"
   ]
  },
  {
   "cell_type": "code",
   "execution_count": 197,
   "metadata": {},
   "outputs": [
    {
     "data": {
      "text/html": [
       "<div>\n",
       "<style scoped>\n",
       "    .dataframe tbody tr th:only-of-type {\n",
       "        vertical-align: middle;\n",
       "    }\n",
       "\n",
       "    .dataframe tbody tr th {\n",
       "        vertical-align: top;\n",
       "    }\n",
       "\n",
       "    .dataframe thead th {\n",
       "        text-align: right;\n",
       "    }\n",
       "</style>\n",
       "<table border=\"1\" class=\"dataframe\">\n",
       "  <thead>\n",
       "    <tr style=\"text-align: right;\">\n",
       "      <th></th>\n",
       "      <th>C</th>\n",
       "      <th>bar</th>\n",
       "      <th>foo</th>\n",
       "    </tr>\n",
       "    <tr>\n",
       "      <th>A</th>\n",
       "      <th>B</th>\n",
       "      <th></th>\n",
       "      <th></th>\n",
       "    </tr>\n",
       "  </thead>\n",
       "  <tbody>\n",
       "    <tr>\n",
       "      <th rowspan=\"3\" valign=\"top\">one</th>\n",
       "      <th>A</th>\n",
       "      <td>-0.236184</td>\n",
       "      <td>-0.019130</td>\n",
       "    </tr>\n",
       "    <tr>\n",
       "      <th>B</th>\n",
       "      <td>-0.878108</td>\n",
       "      <td>1.175001</td>\n",
       "    </tr>\n",
       "    <tr>\n",
       "      <th>C</th>\n",
       "      <td>-0.156434</td>\n",
       "      <td>-0.338822</td>\n",
       "    </tr>\n",
       "    <tr>\n",
       "      <th rowspan=\"3\" valign=\"top\">three</th>\n",
       "      <th>A</th>\n",
       "      <td>0.009025</td>\n",
       "      <td>NaN</td>\n",
       "    </tr>\n",
       "    <tr>\n",
       "      <th>B</th>\n",
       "      <td>NaN</td>\n",
       "      <td>-0.988779</td>\n",
       "    </tr>\n",
       "    <tr>\n",
       "      <th>C</th>\n",
       "      <td>-1.187612</td>\n",
       "      <td>NaN</td>\n",
       "    </tr>\n",
       "    <tr>\n",
       "      <th rowspan=\"3\" valign=\"top\">two</th>\n",
       "      <th>A</th>\n",
       "      <td>NaN</td>\n",
       "      <td>0.256570</td>\n",
       "    </tr>\n",
       "    <tr>\n",
       "      <th>B</th>\n",
       "      <td>-0.637655</td>\n",
       "      <td>NaN</td>\n",
       "    </tr>\n",
       "    <tr>\n",
       "      <th>C</th>\n",
       "      <td>NaN</td>\n",
       "      <td>-0.747871</td>\n",
       "    </tr>\n",
       "  </tbody>\n",
       "</table>\n",
       "</div>"
      ],
      "text/plain": [
       "C             bar       foo\n",
       "A     B                    \n",
       "one   A -0.236184 -0.019130\n",
       "      B -0.878108  1.175001\n",
       "      C -0.156434 -0.338822\n",
       "three A  0.009025       NaN\n",
       "      B       NaN -0.988779\n",
       "      C -1.187612       NaN\n",
       "two   A       NaN  0.256570\n",
       "      B -0.637655       NaN\n",
       "      C       NaN -0.747871"
      ]
     },
     "execution_count": 197,
     "metadata": {},
     "output_type": "execute_result"
    }
   ],
   "source": [
    "pd.pivot_table(df, values='D', index=['A', 'B'], columns=['C'])"
   ]
  },
  {
   "cell_type": "markdown",
   "metadata": {},
   "source": [
    "# 6. 數據可視化"
   ]
  },
  {
   "cell_type": "markdown",
   "metadata": {},
   "source": [
    "### 模擬股票走勢可視化"
   ]
  },
  {
   "cell_type": "code",
   "execution_count": 208,
   "metadata": {},
   "outputs": [
    {
     "data": {
      "text/plain": [
       "<Axes: >"
      ]
     },
     "execution_count": 208,
     "metadata": {},
     "output_type": "execute_result"
    },
    {
     "name": "stderr",
     "output_type": "stream",
     "text": [
      "findfont: Generic family 'sans-serif' not found because none of the following families were found: SimHei\n",
      "findfont: Generic family 'sans-serif' not found because none of the following families were found: SimHei\n",
      "findfont: Generic family 'sans-serif' not found because none of the following families were found: SimHei\n",
      "findfont: Generic family 'sans-serif' not found because none of the following families were found: SimHei\n",
      "findfont: Generic family 'sans-serif' not found because none of the following families were found: SimHei\n",
      "findfont: Generic family 'sans-serif' not found because none of the following families were found: SimHei\n",
      "findfont: Generic family 'sans-serif' not found because none of the following families were found: SimHei\n",
      "findfont: Generic family 'sans-serif' not found because none of the following families were found: SimHei\n",
      "findfont: Generic family 'sans-serif' not found because none of the following families were found: SimHei\n",
      "findfont: Generic family 'sans-serif' not found because none of the following families were found: SimHei\n",
      "findfont: Generic family 'sans-serif' not found because none of the following families were found: SimHei\n",
      "findfont: Generic family 'sans-serif' not found because none of the following families were found: SimHei\n",
      "findfont: Generic family 'sans-serif' not found because none of the following families were found: SimHei\n",
      "findfont: Generic family 'sans-serif' not found because none of the following families were found: SimHei\n",
      "findfont: Generic family 'sans-serif' not found because none of the following families were found: SimHei\n",
      "findfont: Generic family 'sans-serif' not found because none of the following families were found: SimHei\n",
      "findfont: Generic family 'sans-serif' not found because none of the following families were found: SimHei\n",
      "findfont: Generic family 'sans-serif' not found because none of the following families were found: SimHei\n",
      "findfont: Generic family 'sans-serif' not found because none of the following families were found: SimHei\n",
      "findfont: Generic family 'sans-serif' not found because none of the following families were found: SimHei\n",
      "findfont: Generic family 'sans-serif' not found because none of the following families were found: SimHei\n",
      "findfont: Generic family 'sans-serif' not found because none of the following families were found: SimHei\n",
      "findfont: Generic family 'sans-serif' not found because none of the following families were found: SimHei\n",
      "findfont: Generic family 'sans-serif' not found because none of the following families were found: SimHei\n",
      "findfont: Generic family 'sans-serif' not found because none of the following families were found: SimHei\n",
      "findfont: Generic family 'sans-serif' not found because none of the following families were found: SimHei\n",
      "findfont: Generic family 'sans-serif' not found because none of the following families were found: SimHei\n",
      "findfont: Generic family 'sans-serif' not found because none of the following families were found: SimHei\n",
      "findfont: Generic family 'sans-serif' not found because none of the following families were found: SimHei\n",
      "findfont: Generic family 'sans-serif' not found because none of the following families were found: SimHei\n",
      "findfont: Generic family 'sans-serif' not found because none of the following families were found: SimHei\n",
      "findfont: Generic family 'sans-serif' not found because none of the following families were found: SimHei\n",
      "findfont: Generic family 'sans-serif' not found because none of the following families were found: SimHei\n",
      "findfont: Generic family 'sans-serif' not found because none of the following families were found: SimHei\n",
      "findfont: Generic family 'sans-serif' not found because none of the following families were found: SimHei\n",
      "findfont: Generic family 'sans-serif' not found because none of the following families were found: SimHei\n",
      "findfont: Generic family 'sans-serif' not found because none of the following families were found: SimHei\n",
      "findfont: Generic family 'sans-serif' not found because none of the following families were found: SimHei\n",
      "findfont: Generic family 'sans-serif' not found because none of the following families were found: SimHei\n",
      "findfont: Generic family 'sans-serif' not found because none of the following families were found: SimHei\n",
      "findfont: Generic family 'sans-serif' not found because none of the following families were found: SimHei\n",
      "findfont: Generic family 'sans-serif' not found because none of the following families were found: SimHei\n",
      "findfont: Generic family 'sans-serif' not found because none of the following families were found: SimHei\n",
      "findfont: Generic family 'sans-serif' not found because none of the following families were found: SimHei\n",
      "findfont: Generic family 'sans-serif' not found because none of the following families were found: SimHei\n",
      "findfont: Generic family 'sans-serif' not found because none of the following families were found: SimHei\n",
      "findfont: Generic family 'sans-serif' not found because none of the following families were found: SimHei\n",
      "findfont: Generic family 'sans-serif' not found because none of the following families were found: SimHei\n",
      "findfont: Generic family 'sans-serif' not found because none of the following families were found: SimHei\n",
      "findfont: Generic family 'sans-serif' not found because none of the following families were found: SimHei\n"
     ]
    },
    {
     "data": {
      "image/png": "[encoded data removed]",
      "text/plain": [
       "<Figure size 1200x800 with 1 Axes>"
      ]
     },
     "metadata": {},
     "output_type": "display_data"
    }
   ],
   "source": [
    "# pip install tushare \n",
    "# 若沒安裝先安裝\n",
    "import matplotlib.pyplot as plt\n",
    "ts = pd.Series(np.random.randn(1000), index=pd.date_range('1/1/2000',\n",
    "                periods=1000))\n",
    "ts = ts.cumsum()\n",
    "ts.plot(figsize=(12,8))\n"
   ]
  },
  {
   "cell_type": "markdown",
   "metadata": {},
   "source": [
    "### 台積電股票模擬"
   ]
  },
  {
   "cell_type": "code",
   "execution_count": 212,
   "metadata": {},
   "outputs": [
    {
     "name": "stderr",
     "output_type": "stream",
     "text": [
      "[*********************100%***********************]  1 of 1 completed\n"
     ]
    },
    {
     "data": {
      "image/png": "[encoded data removed]",
      "text/plain": [
       "<Figure size 1200x800 with 1 Axes>"
      ]
     },
     "metadata": {},
     "output_type": "display_data"
    }
   ],
   "source": [
    "import yfinance as yf\n",
    "import pandas as pd\n",
    "import matplotlib.pyplot as plt\n",
    "from pylab import mpl  \n",
    "plt.rcParams['font.sans-serif'] = ['Microsoft JhengHei']  \n",
    "plt.rcParams['axes.unicode_minus'] = False \n",
    "\n",
    "# 下載台積電（2330.TW）股價\n",
    "df = yf.download(\"2330.TW\", start=\"1990-01-01\")\n",
    "\n",
    "# 畫股價走勢圖\n",
    "df['Close'].plot(figsize=(12, 8))\n",
    "plt.title(\"台積電 (2330.TW) 股價走勢\")\n",
    "plt.show()\n",
    "\n"
   ]
  }
 ],
 "metadata": {
  "kernelspec": {
   "display_name": "Python 3",
   "language": "python",
   "name": "python3"
  },
  "language_info": {
   "codemirror_mode": {
    "name": "ipython",
    "version": 3
   },
   "file_extension": ".py",
   "mimetype": "text/x-python",
   "name": "python",
   "nbconvert_exporter": "python",
   "pygments_lexer": "ipython3",
   "version": "3.8.20"
  }
 },
 "nbformat": 4,
 "nbformat_minor": 2
}
